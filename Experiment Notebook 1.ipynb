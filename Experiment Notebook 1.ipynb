{
 "cells": [
  {
   "cell_type": "markdown",
   "metadata": {},
   "source": [
    "# Experiment using LSTM"
   ]
  },
  {
   "cell_type": "markdown",
   "metadata": {},
   "source": [
    "## Library Installing and Importing"
   ]
  },
  {
   "cell_type": "code",
   "execution_count": 1,
   "metadata": {},
   "outputs": [],
   "source": [
    "#!pip install -r requirements.txt\n",
    "#!pip install pandas\n",
    "#!pip install numpy\n",
    "#!pip install nltk\n",
    "#!pip install tensorflow\n",
    "#!pip install sklearn\n",
    "#!pip install matplotlib"
   ]
  },
  {
   "cell_type": "code",
   "execution_count": 2,
   "metadata": {},
   "outputs": [],
   "source": [
    "#import nltk\n",
    "#nltk.download()"
   ]
  },
  {
   "cell_type": "code",
   "execution_count": 3,
   "metadata": {},
   "outputs": [],
   "source": [
    "import pandas as pd\n",
    "import numpy as np\n",
    "import nltk\n",
    "from nltk.corpus import stopwords\n",
    "from nltk.stem import WordNetLemmatizer\n",
    "from nltk.tokenize import word_tokenize\n",
    "from sklearn.model_selection import train_test_split\n",
    "import matplotlib.pyplot as plt\n",
    "import tensorflow as tf\n",
    "\n",
    "import warnings\n",
    "warnings.filterwarnings(\"ignore\")"
   ]
  },
  {
   "cell_type": "markdown",
   "metadata": {},
   "source": [
    "## Data Exploration"
   ]
  },
  {
   "cell_type": "code",
   "execution_count": 4,
   "metadata": {},
   "outputs": [],
   "source": [
    "df = pd.read_csv('Resume.csv')"
   ]
  },
  {
   "cell_type": "code",
   "execution_count": 5,
   "metadata": {},
   "outputs": [
    {
     "data": {
      "text/html": [
       "<div>\n",
       "<style scoped>\n",
       "    .dataframe tbody tr th:only-of-type {\n",
       "        vertical-align: middle;\n",
       "    }\n",
       "\n",
       "    .dataframe tbody tr th {\n",
       "        vertical-align: top;\n",
       "    }\n",
       "\n",
       "    .dataframe thead th {\n",
       "        text-align: right;\n",
       "    }\n",
       "</style>\n",
       "<table border=\"1\" class=\"dataframe\">\n",
       "  <thead>\n",
       "    <tr style=\"text-align: right;\">\n",
       "      <th></th>\n",
       "      <th>ID</th>\n",
       "      <th>Resume_str</th>\n",
       "      <th>Resume_html</th>\n",
       "      <th>Category</th>\n",
       "    </tr>\n",
       "  </thead>\n",
       "  <tbody>\n",
       "    <tr>\n",
       "      <th>0</th>\n",
       "      <td>16852973</td>\n",
       "      <td>HR ADMINISTRATOR/MARKETING ASSOCIATE\\...</td>\n",
       "      <td>&lt;div class=\"fontsize fontface vmargins hmargin...</td>\n",
       "      <td>HR</td>\n",
       "    </tr>\n",
       "    <tr>\n",
       "      <th>1</th>\n",
       "      <td>22323967</td>\n",
       "      <td>HR SPECIALIST, US HR OPERATIONS      ...</td>\n",
       "      <td>&lt;div class=\"fontsize fontface vmargins hmargin...</td>\n",
       "      <td>HR</td>\n",
       "    </tr>\n",
       "    <tr>\n",
       "      <th>2</th>\n",
       "      <td>33176873</td>\n",
       "      <td>HR DIRECTOR       Summary      Over 2...</td>\n",
       "      <td>&lt;div class=\"fontsize fontface vmargins hmargin...</td>\n",
       "      <td>HR</td>\n",
       "    </tr>\n",
       "    <tr>\n",
       "      <th>3</th>\n",
       "      <td>27018550</td>\n",
       "      <td>HR SPECIALIST       Summary    Dedica...</td>\n",
       "      <td>&lt;div class=\"fontsize fontface vmargins hmargin...</td>\n",
       "      <td>HR</td>\n",
       "    </tr>\n",
       "    <tr>\n",
       "      <th>4</th>\n",
       "      <td>17812897</td>\n",
       "      <td>HR MANAGER         Skill Highlights  ...</td>\n",
       "      <td>&lt;div class=\"fontsize fontface vmargins hmargin...</td>\n",
       "      <td>HR</td>\n",
       "    </tr>\n",
       "  </tbody>\n",
       "</table>\n",
       "</div>"
      ],
      "text/plain": [
       "         ID                                         Resume_str  \\\n",
       "0  16852973           HR ADMINISTRATOR/MARKETING ASSOCIATE\\...   \n",
       "1  22323967           HR SPECIALIST, US HR OPERATIONS      ...   \n",
       "2  33176873           HR DIRECTOR       Summary      Over 2...   \n",
       "3  27018550           HR SPECIALIST       Summary    Dedica...   \n",
       "4  17812897           HR MANAGER         Skill Highlights  ...   \n",
       "\n",
       "                                         Resume_html Category  \n",
       "0  <div class=\"fontsize fontface vmargins hmargin...       HR  \n",
       "1  <div class=\"fontsize fontface vmargins hmargin...       HR  \n",
       "2  <div class=\"fontsize fontface vmargins hmargin...       HR  \n",
       "3  <div class=\"fontsize fontface vmargins hmargin...       HR  \n",
       "4  <div class=\"fontsize fontface vmargins hmargin...       HR  "
      ]
     },
     "execution_count": 5,
     "metadata": {},
     "output_type": "execute_result"
    }
   ],
   "source": [
    "df.head()"
   ]
  },
  {
   "cell_type": "code",
   "execution_count": 6,
   "metadata": {},
   "outputs": [
    {
     "data": {
      "text/html": [
       "<div>\n",
       "<style scoped>\n",
       "    .dataframe tbody tr th:only-of-type {\n",
       "        vertical-align: middle;\n",
       "    }\n",
       "\n",
       "    .dataframe tbody tr th {\n",
       "        vertical-align: top;\n",
       "    }\n",
       "\n",
       "    .dataframe thead th {\n",
       "        text-align: right;\n",
       "    }\n",
       "</style>\n",
       "<table border=\"1\" class=\"dataframe\">\n",
       "  <thead>\n",
       "    <tr style=\"text-align: right;\">\n",
       "      <th></th>\n",
       "      <th>Category</th>\n",
       "      <th>Resume_str</th>\n",
       "    </tr>\n",
       "  </thead>\n",
       "  <tbody>\n",
       "    <tr>\n",
       "      <th>0</th>\n",
       "      <td>HR</td>\n",
       "      <td>HR ADMINISTRATOR/MARKETING ASSOCIATE\\...</td>\n",
       "    </tr>\n",
       "    <tr>\n",
       "      <th>1</th>\n",
       "      <td>HR</td>\n",
       "      <td>HR SPECIALIST, US HR OPERATIONS      ...</td>\n",
       "    </tr>\n",
       "    <tr>\n",
       "      <th>2</th>\n",
       "      <td>HR</td>\n",
       "      <td>HR DIRECTOR       Summary      Over 2...</td>\n",
       "    </tr>\n",
       "    <tr>\n",
       "      <th>3</th>\n",
       "      <td>HR</td>\n",
       "      <td>HR SPECIALIST       Summary    Dedica...</td>\n",
       "    </tr>\n",
       "    <tr>\n",
       "      <th>4</th>\n",
       "      <td>HR</td>\n",
       "      <td>HR MANAGER         Skill Highlights  ...</td>\n",
       "    </tr>\n",
       "  </tbody>\n",
       "</table>\n",
       "</div>"
      ],
      "text/plain": [
       "  Category                                         Resume_str\n",
       "0       HR           HR ADMINISTRATOR/MARKETING ASSOCIATE\\...\n",
       "1       HR           HR SPECIALIST, US HR OPERATIONS      ...\n",
       "2       HR           HR DIRECTOR       Summary      Over 2...\n",
       "3       HR           HR SPECIALIST       Summary    Dedica...\n",
       "4       HR           HR MANAGER         Skill Highlights  ..."
      ]
     },
     "execution_count": 6,
     "metadata": {},
     "output_type": "execute_result"
    }
   ],
   "source": [
    "df = df[['Category','Resume_str']]\n",
    "df.head()"
   ]
  },
  {
   "cell_type": "code",
   "execution_count": 7,
   "metadata": {},
   "outputs": [],
   "source": [
    "df['Category'] = df['Category'].astype('category')"
   ]
  },
  {
   "cell_type": "code",
   "execution_count": 8,
   "metadata": {},
   "outputs": [
    {
     "name": "stdout",
     "output_type": "stream",
     "text": [
      "<class 'pandas.core.frame.DataFrame'>\n",
      "RangeIndex: 2484 entries, 0 to 2483\n",
      "Data columns (total 2 columns):\n",
      " #   Column      Non-Null Count  Dtype   \n",
      "---  ------      --------------  -----   \n",
      " 0   Category    2484 non-null   category\n",
      " 1   Resume_str  2484 non-null   object  \n",
      "dtypes: category(1), object(1)\n",
      "memory usage: 22.7+ KB\n"
     ]
    }
   ],
   "source": [
    "df.info()"
   ]
  },
  {
   "cell_type": "code",
   "execution_count": 9,
   "metadata": {},
   "outputs": [
    {
     "data": {
      "text/plain": [
       "Category              Resume_str                                                                                                                                                                                                                                                                                                                                                                                                                                                                                                                                                                                                                                                                                                                                                                                                                                                                                                                                                                                                                                                                                                                                                                                                                                                                                                                                                                                                                                                                                                                                                                                                                                                                                                                                                                                                                                                                                                                                                                                                                                                                                                                                                                                                                                                                                                                                                                                                                                                                                                                                                                                                                                                                                                                                                                                                                                                                                                                                                                                                                                                                                                                                                                                                                                                                                                                                                                                                                                                                                                                                                                                                                                                                                                                                                                                                                                                                                                                                                                                                                                                                                                                                                                                                                                                                                                                                                                                                                                                                                                                                                                                                                                                                                                                                                                                                                                                                                                                                                                                                                                                                                                                                                                                                                                                                                                                                                                                                                                                                                                                                                                                                                                                                                                                                                                                                                                                                                                                                                                                                                                                                                                                                                                                                                                                                                                                                                                                                                                                                                                                                                                                                                                                                                                                                                                                                                                                                                                                                                                                                                                                                                                                                                                                                                                                                                                                                                                                                                  \n",
       "FINANCE                        FINANCE OFFICER         Professional Summary    To attain a full-time position in the accounting and finance field where I can utilize the concepts I have learned and the experience I have gained to add value to the company. 25 years of work experience. Fields of expertise include government accounting, auditing and budget management. \\nAssigned as Finance Officer and Acting Bureau of Internal Revenue Representative for 8 ½ years at the Philippine Consulate General, San Francisco. Succeeded in increasing BIR income tax collections by 500%. \\n17 years with the Philippine Department of Tourism as an Administrative and Finance Officer. Responsible for finance & budget management.\\nOutstanding organization skills and excellent communication skills. Detail oriented and dependable team player.      Skills                    Work History      Finance Officer  ,     01/1997  \\n                            to   04/2014     Company Name   –   City  ,\\n                          State      Managed working funds of the office.  Maintained general ledger of the office.  Reconciled sub-ledgers to general ledger account.  Reviewed financial status to ensure there are no discrepancies.  Prepared monthly financial statements such as reports of disbursement, liquidation report and bank reconciliation.  Prepared annual budget analysis and proposal.  Prepared bi-monthly payroll to four staff.  Reviewed and processed accounts payables.  Assisted internal auditors during audits.  Researched accounting and audit issues and complied accordingly with generally accepted accounting principles.  Maintained and regularly updated inventory of promotional materials.  Handled maintenance and procurement of office equipment and office supplies.  Processed personnel records consisting of computation of leave credits, submission of daily time records, and leave of absences.  Attended various travel shows to promote the Philippines as one of the best tourism destination in Asia.  Handled logistics during big events such as finding the right venue, caterers, performers, sound system among others.  Organized familiarization tours targeting mainstream tour operators in raising awareness that the Philippines is a great tourism destination.         Tourism Assistant  ,     01/1994  \\n                            to   01/1997     Company Name   –   City  ,\\n                          State      Handled accounting and financial reports.  Entertained visitors of the Tourism Director.  Answered phone inquiries and mailed brochures and promotional materials they requested.  Processed personnel record consisting of computation of leave credits.  Assisted on various functions of the office when needed.         Finance Officer and Acting BIR Representative  ,     06/1985  \\n                            to   12/1993     Company Name   –   City  ,\\n                          State      Managed Consulate funds averaging $600,000 per month.  Transferred funds among other foreign offices averaging $50,000 per transaction.  Coordinated activities for fiscal agents (Bureau of Internal Revenue, Department of Foreign Affairs and Commission on Audit) who visited San Francisco.  Dealt with local banks and other Finance Officers within San Francisco in particular and the whole USA in general.  Handled accounts payable.  Prepared monthly financial report such as disbursements, status of working funds and bank reconciliation.  Prepared annual reports such as budget proposal, comparative report of collection, statement of income, statement of expense and statement of working funds.  Checked and receipted daily collections and prepared daily deposits.  Prepared bi-monthly payroll for 40 staff.         Account Examiner  ,     01/1980  \\n                            to   01/1985     Company Name   –   City        Examined financial reports of Foreign Service posts such as New York, Stockholm, Pakistan and San Francisco.  Prepared reports of disbursements and collections of the above-mentioned posts.  Liquidated cash advances of assistant secretaries and ambassadors.  Acted as Finance Officer of UNGA (United Nations General Assembly) and UNCLOS (United Nations Law of the Sea).  Entertained phone inquiries.         Education      Completed US Individual Income Tax Course by H& R Block \\n1982 - Passed, Philippine CPA Board Exam  :     1 1994           Bachelor of Science  :   Commerce Accounting  ,\\n                          1 1975     University of Batangas (formerly Western Philippine Colleges)   -   City      Commerce Accounting           1 1     Junior Philippine Institute of Accountants   -                Affiliations    Philippine Institute of Certified Public Accountants          \\nGovernment Association of Certified Public Accountants\\n2      Skills    accounting, accounts payable, accounts payables, Assembly, bank reconciliation, brochures, budget analysis, budget, bi, CPA, Finance, financial, financial statements, funds, general ledger, inventory, Law, logistics, Director, Excel, Microsoft Office, office, Power point, Publisher, Word, office equipment, payroll, personnel, procurement, promotional materials, proposal, QuickBooks, San, sound, Tax, phone, annual reports                                                                                                                                                                                                                                                                                                                                                                                                                                                                                                                                                                                                                                                                                                                                                                                                                                                                                                                                                                                                                                                                                                                                                                                                                                                                                                                                                                                                                                                                                                                                                                                                                                                                                                                                                                                                                                                                                                                                                                                                         2\n",
       "AVIATION                       STOREKEEPER II       Professional Summary    The purpose of this document is to secure a responsible career position that fully utilizes educational knowledge and experience while contributing to the goals and values of this organization. Having a friendly attitude and worm personality is an appreciated strong point, as it aided in building positive relationships with customers. As a result, repeat and satisfied customers were well known during career at Pioneer Packaging as well as while working for City of Peoria. Helping people is one of my best characteristics. Obtaining several years experience contacting vendors, answering phones and face to face contact with the public and governmental personnel has honed my customer service abilities. Problem solving skills and a positive work ethic makes communication easier. I am devoted and dedicated to serving in any way possible, and strive to accomplish assigned tasks quickly and efficiently. Exceptional people skills allow the ability to manage personnel and take care of conflicts, disputes and other personal needs of employees. Procurement and Purchasing: Over 10 years processing purchase orders. Primary vendor contact for Inventory Control and Fleet parts room purchases. Highly proficient utilizing inventory procurement practices and procedures.       Skills                    Work History      STOREKEEPER II       |   January 2002   -   January 2013     Maintaining and reconciling inventory through clerical support, using PeopleSoft to procure and receive shipments obtained by purchase order.  Create excel spread sheets for reports, manage inventory files and research inventory problems.  Conduct inventory cycle counts, coordinate stock and document transactions.  CSR): Provide Customer Service to Departmental and Fleet Maintenance Personnel, process work orders and fill Fleet Purchase Requisitions, contact vendors to procure fuel, parts and other automobile and truck supplies for fleet services.  Trainer: Forklift Operator Safety.         Company Name     Shipping: Fulfill orders with use of Infrared Scanning System (IFR).  Forklift operator: Four-stage electronic single person picker for order pulling and staging.  Word processing: Input shipping orders for USPS, UPS, FedEx, and other common carriers.  Prepare overseas containers for shipment; verify quantities, shipment labels and paperwork.         Company Name    WAREHOUSE FLOOR SUPERVISOR       |   January 1996   -   January 2001     Performance areas include: Interviewing prospective employees for higher.  Providing daily instruction to warehouse personnel and dispatching drivers for deliveries and pickups.  Routine cycle counts of inventory insure and verify, proper placement of inventory.  Receive all incoming shipments and verify counts create stock locations.  Maintain inventory and quality control procedures.  ACCOMPLISHMENTS Personal: Due to specialized training and procurement practices the City of Peoria had an annual savings of $1500.00 annually on costs of goods acquired by purchase order during career.  By developing a spreadsheet to record material requisitions and receiving logs, our department was able to stop purchasing preprinted forms from local vendor, as a result monthly operational cost were reduced.  Man hours during cycle counts and order pulling were also reduced through consolidating bulk inventory into more manageable amounts with the use of poly-bags rather than just dumping items into bin boxes.  Note: The points mentioned above are a small portion of the ideas introduced during career at City of Peoria.         Company Name    Aviation Structural Mechanic   |   City  ,   State         Line division supervisor assistant, plain captain while in line division.  Worked as an aircraft hydraulic and structural systems mechanic as a member of Naval Aircraft Squadron VS-38.  Received General under Honorable Conditions Discharge.  NJROTC, (Navy Junior Recruit Officer Training Corps).         Education      Bachelor's Degree    Business Management Administration    Grand Canyon University    City  ,   State     Business Management Administration       Associate Degree        National Education Center    City  ,   State            Graduate        Naval Aviation A School    City  ,   State            Certified Trainer Forklift Truck Operator Safety\\nAutoCAD Certificate in Architectural Drafting\\nLlewellyn Technology, Certificate, Electro Mechanical Systems Repair        City  ,   State     Training also includes repair of Signode banding and tie wrapping machines, Synergy, Minipac-poly shrink film packaging systems, remove and replace damaged parts and components, and mechanical devices.       Skills    Architectural Drafting, AutoCAD, clerical, Customer Service, Data Entry, dispatching, drivers, film, Forklift, Forklift Operator, forms, instruction, inventory, Mechanical, mechanic, Excel, Microsoft Office, PowerPoint, Windows, Word, Navy, Naval, packaging, PeopleSoft, PeopleSoft 9.0, Personnel, presentations, procurement, purchasing, quality control, receiving, reconciling, research, Safety, Scanning, Shipping, spreadsheets, spread sheets, spreadsheet, supervisor, Trainer, Word Processing, Word Perfect                                                                                                                                                                                                                                                                                                                                                                                                                                                                                                                                                                                                                                                                                                                                                                                                                                                                                                                                                                                                                                                                                                                                                                                                                                                                                                                                                                                                                                                                                                                                                                                                                                                                                                                                                                                                                                                                                                                                                                               2\n",
       "ACCOUNTANT                       ACCOUNTANT         Professional Summary     Emerging accounting professional ready to develop career foundation with expanding operation. Dedicated to keeping records accurate and controls tight to meet all business needs. Systematic and well-organized with strong attention to detail, mathematical acumen and GAAP knowledge.       Skills          Microsoft Office  Account Reconciliation Processes  Financial statements  Interpersonal, active-listening, and critical thinking skills  Proficient in Polish language      Data Entry  Superior analytical skills  General ledger proficiency  Administrative support  Customer service            Work History      Accountant  ,     04/2020   to   Current     Company Name   –   City  ,   State      Prepares necessary adjusting journal entries and period end financial statements.  Executes core financial processes, including vendor setup and payment, operational expenses, administration of bank accounts and account reconciliations.  Processes journal entries and performs accounting corrections to ensure accurate records.  Strengthened financial management processes to bring errors to near-zero in reporting, payroll administration and general bookkeeping.  Prepares governmental reports in compliance with strict standards.         Branch Service Specialist  ,     11/2017   to   04/2020     Company Name   –   City  ,   State      Provided excellent customer care by responding to requests, assisting with product selection and handling ordering functions.  Managed deposits, withdrawals, transfers and check cashing; verified customer identification, signature and balance information; processes loan payments; and opened/closed accounts.  Ensured compliance with banking policies and audit procedures; maintained and balanced cash drawers on a daily basis.  Overlooked ATM balances, refilled cash as needed and ensured the system is in good working order.  Assessed caller accounts to determine member benefits, identify service needs and resolve issues.         Cashier  ,     09/2012   to   06/2017     Company Name   –   City  ,   State      Reconciled cash drawer at start and end of each shift, accounting for errors and resolving discrepancies.  Mentored new team members on POS system operation, customer service strategies and sales goals.  Completed sales in excess of $10,000 with near-zero error rate using POS system.  Organized and reported on financial information to document payment histories and assist with sound financial accounting.  Completed tasks quickly and handled multiple responsibilities at the same time.         Education      Bachelor of Science  :   Accounting and Finance  ,   03/2020     Oakland University   -   City        Dean's List January 2020         Associate  :   Accounting  ,   11/2016     Macomb Community College   -   City             Skills      Microsoft Office  Account Reconciliation Processes  Financial statements  Interpersonal, active-listening, and critical thinking skills  Proficient in Polish language    Data Entry  Superior analytical skills  General ledger proficiency  Administrative support  Customer service        Work History      Accountant  ,   04/2020   to   Current     Company Name   –   City  ,   State      Prepares necessary adjusting journal entries and period end financial statements.  Executes core financial processes, including vendor setup and payment, operational expenses, administration of bank accounts and account reconciliations.  Processes journal entries and performs accounting corrections to ensure accurate records.  Strengthened financial management processes to bring errors to near-zero in reporting, payroll administration and general bookkeeping.  Prepares governmental reports in compliance with strict standards.         Branch Service Specialist  ,   11/2017   to   04/2020     Company Name   –   City  ,   State      Provided excellent customer care by responding to requests, assisting with product selection and handling ordering functions.  Managed deposits, withdrawals, transfers and check cashing; verified customer identification, signature and balance information; processes loan payments; and opened/closed accounts.  Ensured compliance with banking policies and audit procedures; maintained and balanced cash drawers on a daily basis.  Overlooked ATM balances, refilled cash as needed and ensured the system is in good working order.  Assessed caller accounts to determine member benefits, identify service needs and resolve issues.         Cashier  ,   09/2012   to   06/2017     Company Name   –   City  ,   State      Reconciled cash drawer at start and end of each shift, accounting for errors and resolving discrepancies.  Mentored new team members on POS system operation, customer service strategies and sales goals.  Completed sales in excess of $10,000 with near-zero error rate using POS system.  Organized and reported on financial information to document payment histories and assist with sound financial accounting.  Completed tasks quickly and handled multiple responsibilities at the same time.                                                                                                                                                                                                                                                                                                                                                                                                                                                                                                                                                                                                                                                                                                                                                                                                                                                                                                                                                                                                                                                                                                                                                                                                                                                                                                                                                                                                                                                                                                                                                                                                                                                                                                                                                                                                                                                                                                                                                                                                                                                                                                                                 1\n",
       "FINANCE                        FINANCE OFFICER       Summary    Profile: An experience Accountant and data base worker who has developed a strong accounting background working with Data Base and Accounting packages for over four years. Team oriented individual with good interpersonal skill and a demonstrated ability to accurately evaluate customer requirement and complete related tasks / project which satisfy or exceed customer requirement on time. . I have the ability to create conducive atmosphere with colleagues at work. Keen, presentable and goal getter, effective team member, trust worthy, reliable and well organize team player. Confident working alone and with senior authorities, creative and enjoys using own initiatives. Flexible and can adapt to work in wide range of tasks. I have the ability to work within tight schedules and outside official hours.       Highlights          Analytical reasoning  Compliance testing knowledge  Financial statement analysis      Account reconciliation expert  Financial planner  Effective time management            Accomplishments      Achieved 25% cost reduction by eliminating redundant processes.      Formally recognized for excellence achieved in financial analysis, budgeting and forecasting.           Experience     April 2014   to   January 2016     Company Name    City      Finance Officer          Develop internal control\\n     policies, guidelines, and procedures for activities such as budget\\n     administration, cash and credit management, and accounting.    Coordinate and direct the\\n     financial planning, budgeting, procurement, or investment activities of\\n     all or part of an organization.    Maintain current knowledge of organizational\\n     policies and procedures, federal and state policies and directives, and\\n     current accounting standards.    Receive cash and checks and\\n     make deposits.    Advise management on short-term\\n     and long-term financial objectives, policies, and actions.    Prepare or direct preparation\\n     of financial statements, business activity reports, financial position\\n     forecasts, annual budgets, or reports required by regulatory agencies.    Evaluate needs for procurement\\n     of funds and investment of surpluses and make appropriate recommendations.    Provide direction and\\n     assistance to other organizational units regarding accounting and\\n     budgeting policies and procedures and efficient control and utilization of\\n     financial resources.    Analyze the financial details\\n     of past, present, and expected operations to identify development\\n     opportunities and areas where improvement is needed.    Supervise employees performing\\n     financial reporting, accounting, billing, collections, payroll, and\\n     budgeting duties.    Compute, withhold, and account\\n     for all payroll deductions.              April 2013   to   October 2013     Company Name    City      Administrative/Finance Officer           Supervising\\nand monitoring the sheet from haulage work at London Mining          Perform payroll functions, such as maintaining timekeeping\\ninformation and processing       and submitting payroll.      Collect and\\ndeposit money into accounts, disburse funds from cash accounts to pay       bills or invoices, keep records of collections and\\ndisbursements, and ensure accounts   are balanced.       Manage Sage\\nAccounting software in relation to all the company activities.            Income and Expenditure data inputting and analysis.i.e\\ncustomer invoices, supplier       invoices, credit card payments, and inputting all cost\\ninto their various overheads               April 2013   to   October 2013     Company Name    City      Data Entry Supervisor           Reporting to\\nthe Senior Supervisor on the Data Collected during surveys      Supervising\\nthe the output of colleagues to ensure the work is done orderly and on        time.        Responsible\\nfor the coding of different information gathered from surveys      Analysing\\nthe authencity of the report to make sure it truthful and accurate for sending\\nto   various donors                September 2012   to   April 2013     Company Name    City      Compliance and Internal Controlls Officer           Daily\\nreconciliation for four(4) Banks international bank accounts          Weekly\\nreport on all activities in the bank      Monthly cash\\ncount at our branches      Preparing of\\ncustomer transaction report      Comply with\\napplicable Money Laundering Prevention Procedures and, in particular, report\\nany   suspicious activity to the\\nUnit Money Laundering Prevention Officer and Line Manager.       Adhere to\\npolicies including escalation and compliance requirements, and follow any other\\nrelevant   internal controls and procedures as they\\nrelate to process, products, policies and regulations.        Weekly review\\nof all KYC document and ensure they are authentic         Ensuring\\nthat account opening packages are have information submitted by customers         Collect\\nand analyze data to detect deficient controls, duplicated effort, extravagance,     fraud,\\nor non-compliance with laws, regulations, and management policies.      Examine\\nrecords and interview workers to ensure recording of transactions and         compliance\\nwith laws and regulations.          Daily\\nreconciliation for four(4) Banks international bank accounts          Weekly\\nreport on all activities in the bank      Monthly cash\\ncount at our branches      Preparing of\\ncustomer transaction report      Comply with\\napplicable Money Laundering Prevention Procedures and, in particular, report\\nany   suspicious activity to the\\nUnit Money Laundering Prevention Officer and Line Manager.       Adhere to\\npolicies including escalation and compliance requirements, and follow any other\\nrelevant   internal controls and procedures as they\\nrelate to process, products, policies and regulations.        Weekly review\\nof all KYC document and ensure they are authentic         Ensuring\\nthat account opening packages are have information submitted by customers         Collect\\nand analyze data to detect deficient controls, duplicated effort, extravagance,     fraud,\\nor non-compliance with laws, regulations, and management policies.      Examine\\nrecords and interview workers to ensure recording of transactions and         compliance\\nwith laws and regulations.                                Education     2013     Fourah Bay College   City  ,   State  ,   Sierra Leone    Accounting and Finance   Bachelor of Science    GPA:   Graduated with honors.    Honours in Accounting and Finance\\tApr Graduated with honors.        Interests    Volunteer, Lunch Box .\\nTreasurer/sectary, Student Government and I was also a very active member of student sports club.      Skills      Customer and Personal Service     Administration and Management        Active Listening     Judgment and Decision Making           Time Management     Quality Control Analysis           Computers and Electronics     Clerical            Additional Information      Volunteer, Lunch Box .\\nTreasurer/sectary, Student Government.         1\n",
       "                               FINANCE MANAGER       Summary    Top\\nperforming Individual with\\na consistent track record of surpassing sales goals and meeting\\nobjections. Extensive sales experience in the retail and customer\\nservice industry specializing in auto sales. An innovative manager  who has lead a cohesive sales team in consistently achieving aggressive stretch goals with unique abilities in making decisions and problem solving.       Highlights          Excellent Communication  Contracts and Negotiations  Cross-Cultural Sales Background        Marketing  Leadership & Management  Bi-lingual            Accomplishments     Exceeded Sales goals by  40 % on a monthly basis, which led to promotion to Finance Manager in 4 months.  Managed a successful sales team of  12  members who consistently exceeded sales goals by  20%  each month.         Experience      Finance Manager   11/2010   to   01/2015     Company Name   City  ,   State       Understands automobiles by studying characteristics, capabilities, and features; comparing and contrasting competitive models; inspecting automobiles.  Develops buyers by maintaining rapport with previous customers; suggesting trade- ins; meeting prospects at community activities; greeting drop-ins; responding to inquiries; recommending sales campaigns and promotions.  Closes sales by overcoming objections; asking for sales; negotiating price; completing sales or purchase contracts; explaining provisions; explaining and offering warranties, services, and financing; collects payment; delivers autos.  Continuously seeking new lending institutions and maintained good working relationships to secure competitive interest rates and financing programs.          Finance Manager   11/2015   to   08/2016     Company Name   City  ,   State      Negotiated and reviewed business contracts and financial models with profitability and financial success in mind. H  ands-on negotiations with clients.   Secured loans for customers         Finance Manager   02/2015   to   08/2015     Company Name   City  ,   State       Responsible for maintaining good working relationships with lenders to secure competitive interest rates and financing programs.  Offering vehicle financing to customers and providing them with a thorough explanation of aftermarket products and extended warranties and a complete explanation of manufacturer and dealership service procedures and policies.  Processing financing and leasing deals accurately and securing approval through financial sources to secure approval and through the proper federal, state and corporate channels.          CNA   01/2003   to   07/2010     Company Name   City  ,   State       Performed patient care in a long term, geriatric care Hospice and terminally ill care of.  patients and family Daily care of 13 bed unit Bathing and care of patients.  Charted and.  documented activities as well as working in teams with doctors, and.  ancillary personnel.          Education      Certificate  :   Finance & Automotive Insurance   2014       UDS   City  ,   State               Skills    automobiles, Bi, competitive, contracts, features, financing, financial, Hospice, inspecting, Leadership, Marketing, negotiating, Negotiation, Bathing, patient care, personnel, policies, rapport, Sales                                                                                                                                                                                                                                                                                                                                                                                                                                                                                                                                                                                                                                                                                                                                                                                                                                                                                                                                                                                                                                                                                                                                                                                                                                                                                                                                                                                                                                                                                                                                                                                                                                                                                                                                                                                                                                                                                                                                                                                                                                                                                                                                                                                                                                                                                                                                                                                                                                                                                                                                                                                                                                                                                                                                                                                                                                                                                                                                                                                                                                                                                                                                                                                                                                                                                                                                                                                                                                                                                                                                                                                                                                                                                                                                                                                                                                                                                                                                                                                                                   1\n",
       "                                                                                                                                                                                                                                                                                                                                                                                                                                                                                                                                                                                                                                                                                                                                                                                                                                                                                                                                                                                                                                                                                                                                                                                                                                                                                                                                                                                                                                                                                                                                                                                                                                                                                                                                                                                                                                                                                                                                                                                                                                                                                                                                                                                                                                                                                                                                                                                                                                                                                                                                                                                                                                                                                                                                                                                                                                                                                                                                                                                                                                                                                                                                                                                                                                                                                                                                                                                                                                                                                                                                                                                                                                                                                                                                                                                                                                                                                                                                                                                                                                                                                                                                                                                                                                                                                                                                                                                                                                                                                                                                                                                                                                                                                                                                                                                                                                                                                                                                                                                                                                                                                                                                                                                                                                                                                                                                                                                                                                                                                                                                                                                                                                                                                                                                                                                                                                                                                                                                                                                                                                                                                                                                                                                                                                                                                                                                                                                                                                                                                                                                                                                                                                                                                                                                                                                                                                                                                                                                                                                                                                                                                                                                                                                                                                                                                                                                                                                                                                                     ..\n",
       "BUSINESS-DEVELOPMENT           BUSINESS DEVELOPMENT INTERN       Summary    Obtain a position in analytics or data science in which I can enable data-driven decision-making to help leaders solve problems.      Highlights        Proficient using Statistical Analysis Software (SAS), R, SAS Data Miner, SQL, Relational Databases, and Microsoft Office programs. \\n*Experienced in statistical analyses, sampling techniques, research design, C-level presentations, and professional writing skills.              Experience      Business Development Intern   05/2013   to   Current     Company Name   City  ,   State       Enabled precision micro-targeting and bid optimization with Search Engine Marketing (SEM) at the zip-code level for AutoTrader's clients.  Used SAS and R to produce an interactive choropleth Google map that tracks page views, Sales, and Market Share of page views per client, which identifies potential areas of opportunity for SEM marketing.  Haystak Digital Marketing, an AutoTrader company, estimates that the project will increase their revenues by $3.5 million annually.          Statistical Consultant   10/2012   to   12/2012     Company Name      Used the correlation procedure in SAS to analyze Zillow.com data and housing attributes of 141 homes in the Virginia Highland community to determine that Dekalb County's appraisals were faulty and not statistically sound, which led the residents to winning a case against the county in court.          Statistical Consultant   05/2012   to   01/2013     Company Name   City  ,   State       Performed statistical analysis on survey research concerning the educational preferences of students born post 1982 in comparison with students of other age groups.  Found statistically significant differences in chosen majors of millenials to non-millenials and by race using the ANOVA and T-test procedures in SAS.  Accomplishments Smart Search Engine Marketing\"\\t\\t\\t\\t\\t\\tSummer 2013 Used SAS and R to analyze Sales, Vehicle Detail Page (VDP) counts, Market Share of VDP counts, automotive brand, demographics, and geography by zip code.  This determined which zip codes to micro-target for Search Engine Marketing (SEM) with Haystak Digital Marketing, rather than marketing solely based on a 10 mile distance of IP address from a dealership.  The project estimates to earn Haystak a potential of $3.5 million in annual revenues.  Using Logistic Regression to Determine Credit Scores\"\\t\\t\\tSpring 2013 Used the scoring, correlation, SQL, and logistic procedures of SAS with a 2.5 million record dataset from Compucredit to produce a logistic regression model to classify consumers as \"good\" or \"bad\" credit risks based on 16 significant predictors.  The model generates approximately $114k profit per 1,000 individuals scored.  Homelessness in Georgia\"\\t\\t\\t\\t\\t\\t\\tFall 2012 Performed a multiple linear regression using the regression procedure in SAS to predict the counts of homeless persons per county in Georgia.  Lottery Sales per Person\" was found to be the most significant predictor.          Education      Bachelor of Science  :   Sociology Statistics   May 2013       Kennesaw State University   City  ,   State       GPA:   GPA: 3.45    GPA: 3.45 Sociology Statistics        Skills    automotive, C, com, Credit, client, clients, IP, marketing, Market, Microsoft Office programs, optimization, Page, predict, presentations, profit, Relational Databases, research, research design, Sales, SAS, sound, SQL, Statistical Analysis, professional writing, zip      Additional Information      HONORS AND ACTIVITIES Eagle Scout, Boy Scouts of America President's List:  Fall 2011, Fall 2012, Spring 2013 President, Alpha Kappa Delta - Honor Society of Sociology, Spring 2013 Study Abroad Program to Paris and Romania, Summer 2011                                                                                                                                                                                                                                                                                                                                                                                                                                                                                                                                                                                                                                                                                                                                                                                                                                                                                                                                                                                                                                                                                                                                                                                                                                                                                                                                                                                                                                                                                                                                                                                                                                                                                                                                                                                                                                                                                                                                                                                                                                                                                                                                                                                                                                                                                                                                                                                                                                                                                                                                                                                                                                                                                                                                                                                                                                                                                                                                                                                                                                                                                                                                                                                                                                                                                                                                                                                                                                                                                              1\n",
       "                               BUSINESS DEVELOPMENT LEADER        Summary    BUSINESS DEVELOPMENT MANAGER Experienced leader with more than 7 years of experience working in sales, marketing and business\\ndevelopment with specialization in identifying, developing, and maintaining new strategic business\\npartnerships. Propelled a small chemical trading firm into a flourishing manufacturer, national distributor\\nand global manufacturer's sole-trading partner. Highly motivated, tough negotiator with excellent verbal\\nand written skills. Expertise in engaging decision making and devising winning sales strategies and\\nsolutions.\\nInnovative, adaptable, analytical, action-oriented, and flexible in working with suppliers and customers in\\ndynamic international markets. Developed sole-selling agencies of 4 different manufacturers in 3 different\\ncountries encompassing 6 different products. Experienced in working collaboratively with cross-functional\\nteams such as technical, legal, finance, sales and marketing. Bringing creativity, complex problem-solving\\nskills, entrepreneurial drive, and unceasing spirit to all endeavors.      Skills          Strong business acumen  Managing cross functional teams  Motivational management style  Sales and pricing strategies  Customer-focused sales leader  New product and market development  Strategic sourcing and hedging  Data-driven decision making  Demand prediction  Supply chain and resource management  Cost control and profit maximization  Project planning and development  Business forecasting and strategy MS Office Suite, Adobe Photoshop, Macromedia Flash and  Dreamweaver, Programming Skills - HTML, C, C++              Experience      Business Development Leader | Partner | Director     Feb 2010   to   Nov 2017      Company Name   －   City       Spearheaded company-wide marketing campaigns introducing new products which boosted sales\\n          by more than 67% in just 1 year.  Increased gross profit by 135%, net profit by 133% and EDITDA by 100% in less than 7 years.  Ensured long-term profitability by researching and renegotiating vendor and customer contracts.  Identified and eliminated loss making products and promoted profitable ones.  Single-handedly developed a large customer base for a new product range increasing sales from\\n          zero base to more than $2 million in just under 4 years.  Demonstrated strong leadership by recruiting, training and managing more than 20 employees\\n          across different locations and multiple departments.  Managed accounts of more than 300 customers directly, retaining almost all of them till date.  Strategically sourced products and negotiated long term contracts by consistently beating\\n          aggressive competition in reverse auctions to win business of a major manufacturer.  Gained market share post the recession years of 2008 and 2009 by segmenting customer base\\n          and servicing new specialized niches.  Developed and implemented employee welfare policies and other company policies on ethical\\n          way of conducting business.  Assisted in preparing balance sheets and filing multiple tax returns including income tax, excise\\n          duty, service tax, value added tax, and goods and service tax.  Worked closely with auditors, set\\n          budgets for expenses, negotiating secured and unsecured credit lines with banks.         Teaching Assistant     Aug 2007   to   Dec 2009      Company Name              Graduate Teaching Assistant       Worked for two and half year as graduate teaching assistant, teaching\\n          organic chemistry laboratory to undergraduates.  Trained over 250 students in basic to semi-advanced theoretical and\\n          laboratory skills in organic chemistry\\n Responsibilities.  Presented lectures to class of over 100-150 students.  Conducted multiple\\n          one-on-one student review sessions.  Responsible for making presentations, teaching course material, teaching lab\\n          skills, and grading of assignments and final exams.         Education and Training      Masters of Science  ,   Organic Chemistry   May 2010    Organic Chemistry Research and Thesis Option), Virginia Tech       Bachelor of Technology  ,   Dyes and Intermediates, Institute of Chemical Technology   May 2007    Dyes and Intermediates, Institute of Chemical Technology Research Publication Pd-catalyzed amination; Tetrahedron Letters. 2011, 52, 916       Research Project: Mild and convenient ways to prepare N-alkyl tacrines (June 2008 - May 2010)     May 2007           Skills    Dreamweaver, Adobe Photoshop, balance sheets, basic, budgets, C, C++, chemistry, contracts, Cost control, credit, clients, decision making, delivery, filing, Macromedia Flash, forecasting, functional, gross profit, HTML, leadership, leadership skills, Letters, logistics, Managing, manufacturing\\n          processes, marketing, market, market development, MS Office Suite, win, 2000, negotiating, negotiator, policies, presentations, pricing strategies, profit, Programming, Project planning and development, Publication, quality, quality assurance, recruiting, researching, Research, Sales, Self-starter, strategy, Strategicsourcing, Supply chain, tax, tax returns, teaching                                                                                                                                                                                                                                                                                                                                                                                                                                                                                                                                                                                                                                                                                                                                                                                                                                                                                                                                                                                                                                                                                                                                                                                                                                                                                                                                                                                                                                                                                                                                                                                                                                                                                                                                                                                                                                                                                                                                                                                                 1\n",
       "                               BUSINESS DEVELOPMENT MANAGER             Experience     January 2014   to   Current     Company Name   City  ,   State     Business Development Manager        Platform for video content and targeted native video ads Report to COO and CRO with new business initiatives and business strategies for publishers and advertisers.  Launched Cinema6's first campaigns, with a premium spirits brand and athletic brand resulting in 100% profit Negotiated contracts with 3rd party vendors (Jun Group, Veeseo, Adblade, Bidtellect).  Adding clients to partner with by phone, email and meetings resulting in the creation of a pipeline for Cinema6 Compose weekly reports on new business, campaigns and other daily tasks.         January 2013   to   January 2014     Company Name   City  ,   State     Sales and Service Desk Specialist        Private Wealth Management - Alternative Investments Supported and managed relationships with Financial Advisors in the Pacific Northwest and Mid-America regions, as well as throughout the country and internationally.  Educated Financial Advisors on specific Alternative Investment products on the Merrill Lynch platform, including strategies, fee structure, and purchase and redemption schedules.  Identified as the Sales and Service Desk Specialist with the highest and most consistent call record, leading the team in services provided to Financial Advisors that called on the Alternative Investments Service Desk.  Developed and helped launch the Best Practitioner program for Financial Advisors geared towards generating new business on the Alternative Investment platform.  Awarded 2013 Alternative Investments Most Net Sales to Budget for the Pacific Northwest Region.         January 2010   to   January 2013     Company Name   City  ,   State     New Business Director        Provided financial solutions for client that reduced cash flow expenditures and realized losses on assets by utilizing those underperforming assets to offset media expenditures.  Responsible for introducing ORION Trading to 75-150 accounts with annual media budgets in excess of $4mm on advertising including, but not limited to television, radio, digital print, and OOH, nationally and locally.  Sourced and maintained relationships with corporate executives at Fortune 1000 organizations.  Responsible for sourcing and brokering new business with significant clients including Vail Resorts, Cargill, Pergo, Black and Decker, and Colonial Williamsburg.  Responsible for production of monthly newsletters for ORION clients and employees on current innovations that provided creative solutions to business problems.         January 2008   to   January 2009     Company Name   City  ,   State     Sales Manager        Maximized Showtime Networks subscriber growth and revenue in affiliate customer service centers in the Mid-West and Western territories.  Managed 10 accounts in the cable industry sector with $894,623 of combined revenue and maintained a 1% account net growth, in a television advertising environment that exhibited significant declines in growth.  Led on-site training by educating and motivating affiliated Customer Contact Personnel, which included 15-20 people per training on product, sales, retention, new product introduction, and created and implemented motivational methods to influence sales.  Led new business development initiatives in Seneca, SC and Seattle, WA, territories that directly resulted in increased revenue from locations that previously generated zero advertising revenue.  Established and maintained an extensive network of clients through calls, meetings, and designed client management events.         July 2006       Company Name   City  ,   State     Summer Analyst        Conducted research for Portfolio Managers on portfolio investments including analyses of 10-K and 10-Q reports.  Tracked the trading volume and prices of key stocks for institutional and private clients, producing weekly reports to various Portfolio Managers and assisted the trading desk with market database analysis on prospective trades.          Education     2007     HOBART COLLEGE   City  ,   State       Bachelor of Arts  :   English    English       May 2007       Media and Society    Media and Society        Interests    Member, Men's Club Ice Hockey (2003 - 2007), devoted 12 hours per week in practice and competition Volunteer, Political Activism House (2004), organized and conducted voter registration drives for college students 1999-2003 THE DELBARTON SCHOOL\\tMorristown, NJ Member, Men's Varsity Ice Hockey (NJ State Champions - 2002) New Jersey Hockey Hall of Fame inductee - 2014       Additional Information      Member, Men's Club Ice Hockey (2003 - 2007), devoted 12 hours per week in practice and competition Volunteer, Political Activism House (2004), organized and conducted voter registration drives for college students 1999-2003 THE DELBARTON SCHOOL\\tMorristown, NJ Member, Men's Varsity Ice Hockey (NJ State Champions - 2002) New Jersey Hockey Hall of Fame inductee - 2014         Skills    ads, advertising, Avid, budgets, Budget, business strategies, cable, cash flow, coach, client management, content, contracts, SC, client, clients, customer service, database analysis, email, Financial, Investments, market, meetings, Microsoft Excel, Power Point, Microsoft Word, network, Networks, new business development, newsletters, Personnel, producing, profit, radio, Research, Sales, phone, television, video                                                                                                                                                                                                                                                                                                                                                                                                                                                                                                                                                                                                                                                                                                                                                                                                                                                                                                                                                                                                                                                                                                                                                                                                                                                                                                                                                                                                                                                                                                                                                                                                                                                                                                                         1\n",
       "                               BUSINESS DEVELOPMENT MANAGER             Highlights          ADDITIONAL SKILLS  Fluent in 4 European Languages: English, French, Italian and Greek.  Proficient in Microsoft and Mac platforms. Good knowledge of Google docs, Quicken and Tradeware's ordering, shipping and transportation management system.  Involved in various functions and fundraisers in the school's PTA. Chaired the Ross School's most successful Auction in 2011 raising $250,000. Appointed 1st VP of fundraising in 2012. Also chaired the school's wine auction in 2010 and the annual fundraising party in 2012.  Highly organized, enthusiastic and financially astute.  Personable and energetic.              Experience      Business Development Manager    April 2007   to   Current     Company Name   －   City  ,   State      Founded a language service to assist individuals and corporations with foreign language requirements.  Offer Italian and French classes to professionals and children in a class room environment and privately.  Develop proprietary teaching and training materials tailor made for each student group.  Translation services (written and simultaneous) in and out of Italian, French and English.  Check translation's technical terms and terminology to ensure that they are accurate and remaining consistent throughout translation revisions.  Translation and interpreting experience in a variety of industries, including communications, bio-medical and aviation. Reporting to the Managing Partner, accountable for acquisition of new business and retention of existing clients in North America and EMEA.  Created and planned business strategies and budgets to meet the company's sales objectives and increase business opportunities.  Generated opportunities for meetings with key decision makers to drive the sales process forward.  Initiated and implemented sales strategies to increase profitability with key accounts.  Provided leadership and networking knowledge to the customers and maintenance of an appropriate presence in the industry.  Identified, developed and evaluated marketing strategies, based on knowledge of the company's objectives, market characteristics, cost and markup factors.  Used sales forecasting or strategic planning to ensure the sale and profitability of products and services.  Analyzed business developments and monitored market trends.  Coordinated and participated in promotional activities and trade shows, working with developers, advertisers and production managers, to market products and services.          Sales and Marketing Manager    October 2006   to   March 2008     Company Name   －   City        Responsible for the overall sales and marketing policies to reflect the company's strategies and objectives.  Developed and implemented a sales and marketing program and corporate identity for this UK start-up company.  Planed and created all the company's marketing and communication materials.  Initiated and executed a sales plan with the objective of growing the company in the North American market.  Researched strategies and plans which identified marketing opportunities, both domestically and internationally for direct marketing and new project development.  Successfully implemented the company's sales and marketing plan, which directly resulted in a new sister office being opened in the US.          VP Sales and Marketing    March 1994   to   July 2001     Company Name   －   City        Reporting directly to the CEO co-ordinated and directed the company's sales and marketing functions for EMEA.  Generated revenue from sales during this term, in excess of $10m.  Developed and co-ordinated sales selling cycles and methodologies.  Directed and oversaw the company's marketing function to identify and develop new customers for its products and services.  Created and managed sales and marketing budgets to include press, public relations, advertising and community outreach.  Supervised the planning and generation of the company's marketing and communication materials and the preparation, issuance and delivery of sales materials, exhibits and promotional programs.  Directly managed critical and new client accounts and co-ordinated the management of other accounts.  Managed the relationship with partners (domestic and international), vendors, distributors and VARs.  Responsible for the repositioning of the company and the creation and execution of an aggressive marketing strategy, including a new corporate identity and branding to attract external investment.          Executive Assistant    January 1991   to   December 1994     Company Name   －   City        Reporting directly to the Chairman, responsible for all administrative support relating to scheduling, expenses, meetings, travel, client relationship management.  Assisted in special projects of cost control for selling and non-selling functions to achieve optimal expenditure levels for budgeting purposes.  Reviewed ordering procedures and formulation of stricter guidelines on quotes and tenders.  Analyzed all Concession Agreements which lead to a 2% increase of the overall Concession revenue.  Reviewed and analyzed the store's direct and indirect operating costs and attribution of these to various departments which resulted in the relocation of some departments.  Co-ordinated and supervised the implementation and recommendations from various audit reports by both external and in house auditors.  Managed a team of \"floating staff\" to be assigned to trouble shoot areas of concern.          Education      MSc   :   Trade and Finance      CITY UNIVERSITY BUSINESS SCHOOL   －   City  ,     UK    CITY UNIVERSITY BUSINESS SCHOOL\\tLONDON, UNITED KINGDOM MSc Shipping, Trade and Finance, Dec 1990        BA   :   French and Italian      THE UNIVERSITY OF HULL   －   City  ,     UK    THE UNIVERSITY OF HULL\\tHULL, UNITED KINGDOM BA (Honors) French and Italian, July 1989        Accomplishments    BA (Honors) French and Italian, July 1989      Certifications    PTA      Skills    Marketing, Sales, Budgets, Promotional, And Marketing, Sales And, Aviation, Class, Comprehensive Large Array Data Stewardship System, Excellent Multitasker, Simultaneous, Teaching, Training, Accounts And, Advertising, Branding, Community Outreach, From Sales, Its, Managed Sales, Of Sales, Public Relations, Increase, Administrative Support, Audit, Budgeting, Cost Control, Executive Assistant, For Selling, Ordering, Relationship Management, Scheduling, Selling And, Accountable For, Business Development, Clients, Forecasting, Implemented Sales, Key Accounts, Maintenance, Market Trends, Networking, Sale And, Sales Forecasting, Sales Objectives, Sales Strategies, Strategic Planning, The Sale, The Sales, Direct Marketing, Marketing Plan, Overall Sales, Project Development, Sales Plan, Energetic, Fundraising, Highly Organized, Mac, Quicken, San, Self Motivated, Storage Area Network, Very Organized, Finance, Shipping                                                                                                                                                                                                       1\n",
       "TEACHER                    Marilyn    Hunter       Summary     Focused on providing professional service and support to every office visitor. Diligent about scheduling appointments, managing packages and routing mail to recipients. Positive nature with excellent people skills.  Flexible hard worker ready to learn and contribute to team success.       Skills          Behavior modeling  Compliance  Leadership  Teambuilding  Work ethic  Multitasking  Active listening      Troubleshooting  Individualized care  Multi-line telephone skills  Office equipment operations  Organization and efficiency  Meticulous and organized  Security understanding            Experience      Substitute Teacher   |   Company Name    -    City  ,   State     |   08/2015   -   03/2020     Enforced classroom routines to keep students on schedule and operating at consistent level.  Implemented lesson plans assigned by classroom teacher to educate students about key concepts.  Provided notes and reports on school day activities to primary teacher.  Requested as substitute teacher based on excellent referrals and trusted performance.  Engaged students in discussions to promote interest and drive learning.  Educated students in various subjects to provide seamless transition during absence of head teacher.  Maintained student attendance and assignment records to prevent lapses during teacher absences.  Differentiated classroom and small group instruction to meet needs of students with various learning styles and abilities.  Helped students build learning and study skills to achieve educational goals.  Engaged students and boosted understanding of material using focused instructional strategies and hands-on activities.  Reported problem students to principal to maintain control of classroom.  Managed high school classrooms during teacher absences.  Stayed up to date with current regional curriculums to maintain readiness for long- and short-term substitute jobs.  Oversaw pop quizzes, material exams and standardized tests to facilitate instruction.  Assigned homework to students based on curricula and modified based on daily progress.  Promoted learning by leveraging traditional and modern instructional strategies.  Created lesson plans to address requirements of state curriculum.  Led group sessions to reinforce concepts and applications of course content.  Assisted fellow teachers with assignment development, special projects, tests, administrative updates and grading.  Recorded attendance data to report to program managers.  Taught reading, language arts, mathematics and other subjects utilizing course of study adopted by Board of Education.  Administered quizzes and tests and documented grades to support accurate record-keeping.  Taught students during teacher absences and kept up with lesson plans and student assignments.  Substituted for teachers to practice handling classrooms of students.         Elementary Computer Teacher   |   Company Name    -    City  ,   State     |   08/1999   -   09/2002     Created tests and assignments to assess student knowledge of presented coursework and lecture materials.  Facilitated computer lab sessions, supervising such tasks as penetration testing, coding and script creation.  Developed lectures addressing variety of computer science topics to engage and educate students.  Built and expanded knowledge of IT trends by attending professional events, including workshops, seminars and conferences.  Assisted students with developing thesis topics by offering suggestions and contacting appropriate research sources.  Instructed students on use of technology tools and equipment as well as methods for accessing information.  Set up and maintained classroom computers and equipment.  Provided instruction on professional technology use and web etiquette.  Devised project-based assignments to create opportunity for hands-on practice and skill building.  Scored student assignments to measure comprehension.  Attended seminars and workshops to discover latest advances in computer education.  Crafted educational, straightforward and visually appealing slideshow presentations to guide lectures.  Evaluated and adjusted course curriculum based on student overall performance and assessments.         Receptionist   |   Company Name    -    City  ,   State     |   08/1998   -   06/1999     Scheduled and confirmed appointments.  Answered and directed incoming calls using multi-line telephone system.  Delivered administrative support to team members, including making copies, sending faxes, organizing documents and rearranging schedules.  Maintained daily calendars, set appointments with clients and planned daily office events.  Sorted incoming mail and directed to correct personnel each day.  Oversaw office inventory by restocking supplies and submitting purchase orders.  Screened and verified visitors for identification credentials and purpose of visit to maintain security of personnel and office environment.  Prepared packages for shipment by generating packing slips and setting up courier deliveries.  Directed and oversaw office personnel activities.  Answered phone calls, provided information to callers and connected callers to appropriate people.  Welcomed patrons to front desk and engaged in friendly conversations while conducting check-in process.  Managed customer complaints and rectified issues to complete satisfaction.  Managed office paperwork, including scanning documents and routing business correspondence.  Pulled and organized requested documentation.  Greeted visitors and directed them to appropriate areas, verifying reasons for visit and verified information.  Determined needs of visitors and provided information or solutions.  Signed for packages, recorded all deliveries and distributed to personnel.  Delivered key administrative support to coworkers, taking on additional tasks during peak times.  Maintained accurate bookkeeping of important files and ran reports and delivered updates on occupancy and revenues to supervisor.  Maintained office safety by screening visitors, updating logs and issuing temporary passes.         Education and Training      Albany State University    |   City  ,   State     |   05/1986    Bachelor of Science  :   Psychology                                                                                                                                                                                                                                                                                                                                                                                                                                                                                                                                                                                                                                                                                                                                                                                                                                                                                                                        1\n",
       "Length: 2482, dtype: int64"
      ]
     },
     "execution_count": 9,
     "metadata": {},
     "output_type": "execute_result"
    }
   ],
   "source": [
    "df.value_counts()"
   ]
  },
  {
   "cell_type": "markdown",
   "metadata": {},
   "source": [
    "## Preprocessing"
   ]
  },
  {
   "cell_type": "code",
   "execution_count": 10,
   "metadata": {},
   "outputs": [],
   "source": [
    "df['Text'] = df['Resume_str']"
   ]
  },
  {
   "cell_type": "code",
   "execution_count": 11,
   "metadata": {},
   "outputs": [],
   "source": [
    "import string\n",
    "def clean_text(series):\n",
    "    stop_words = set(stopwords.words('english'))\n",
    "    lemmatizer = WordNetLemmatizer()\n",
    "    cleaned_texts = []\n",
    "    for text in series:\n",
    "        # Tokenization\n",
    "        tokens = word_tokenize(text.lower())\n",
    "        # Removing punctuation and numeric values\n",
    "        no_punct_tokens = [token for token in tokens if token not in string.punctuation and not token.isnumeric()]\n",
    "        # Removing stop words\n",
    "        no_stopwords_tokens = [token for token in no_punct_tokens if token not in stop_words]\n",
    "        # Lemmatization\n",
    "        lemmatized_tokens = [lemmatizer.lemmatize(token) for token in no_stopwords_tokens]\n",
    "        # Join tokens back into a string\n",
    "        cleaned_text = ' '.join(lemmatized_tokens)\n",
    "        cleaned_texts.append(cleaned_text)\n",
    "    return cleaned_texts"
   ]
  },
  {
   "cell_type": "code",
   "execution_count": 12,
   "metadata": {},
   "outputs": [],
   "source": [
    "df['Text'] = clean_text(df['Text'])"
   ]
  },
  {
   "cell_type": "code",
   "execution_count": 13,
   "metadata": {},
   "outputs": [
    {
     "data": {
      "text/html": [
       "<div>\n",
       "<style scoped>\n",
       "    .dataframe tbody tr th:only-of-type {\n",
       "        vertical-align: middle;\n",
       "    }\n",
       "\n",
       "    .dataframe tbody tr th {\n",
       "        vertical-align: top;\n",
       "    }\n",
       "\n",
       "    .dataframe thead th {\n",
       "        text-align: right;\n",
       "    }\n",
       "</style>\n",
       "<table border=\"1\" class=\"dataframe\">\n",
       "  <thead>\n",
       "    <tr style=\"text-align: right;\">\n",
       "      <th></th>\n",
       "      <th>Category</th>\n",
       "      <th>Resume_str</th>\n",
       "      <th>Text</th>\n",
       "    </tr>\n",
       "  </thead>\n",
       "  <tbody>\n",
       "    <tr>\n",
       "      <th>0</th>\n",
       "      <td>HR</td>\n",
       "      <td>HR ADMINISTRATOR/MARKETING ASSOCIATE\\...</td>\n",
       "      <td>hr administrator/marketing associate hr admini...</td>\n",
       "    </tr>\n",
       "    <tr>\n",
       "      <th>1</th>\n",
       "      <td>HR</td>\n",
       "      <td>HR SPECIALIST, US HR OPERATIONS      ...</td>\n",
       "      <td>hr specialist u hr operation summary versatile...</td>\n",
       "    </tr>\n",
       "    <tr>\n",
       "      <th>2</th>\n",
       "      <td>HR</td>\n",
       "      <td>HR DIRECTOR       Summary      Over 2...</td>\n",
       "      <td>hr director summary year experience recruiting...</td>\n",
       "    </tr>\n",
       "    <tr>\n",
       "      <th>3</th>\n",
       "      <td>HR</td>\n",
       "      <td>HR SPECIALIST       Summary    Dedica...</td>\n",
       "      <td>hr specialist summary dedicated driven dynamic...</td>\n",
       "    </tr>\n",
       "    <tr>\n",
       "      <th>4</th>\n",
       "      <td>HR</td>\n",
       "      <td>HR MANAGER         Skill Highlights  ...</td>\n",
       "      <td>hr manager skill highlight hr skill hr departm...</td>\n",
       "    </tr>\n",
       "  </tbody>\n",
       "</table>\n",
       "</div>"
      ],
      "text/plain": [
       "  Category                                         Resume_str  \\\n",
       "0       HR           HR ADMINISTRATOR/MARKETING ASSOCIATE\\...   \n",
       "1       HR           HR SPECIALIST, US HR OPERATIONS      ...   \n",
       "2       HR           HR DIRECTOR       Summary      Over 2...   \n",
       "3       HR           HR SPECIALIST       Summary    Dedica...   \n",
       "4       HR           HR MANAGER         Skill Highlights  ...   \n",
       "\n",
       "                                                Text  \n",
       "0  hr administrator/marketing associate hr admini...  \n",
       "1  hr specialist u hr operation summary versatile...  \n",
       "2  hr director summary year experience recruiting...  \n",
       "3  hr specialist summary dedicated driven dynamic...  \n",
       "4  hr manager skill highlight hr skill hr departm...  "
      ]
     },
     "execution_count": 13,
     "metadata": {},
     "output_type": "execute_result"
    }
   ],
   "source": [
    "df.head()"
   ]
  },
  {
   "cell_type": "markdown",
   "metadata": {},
   "source": [
    "### Dataset splitting"
   ]
  },
  {
   "cell_type": "code",
   "execution_count": 14,
   "metadata": {},
   "outputs": [],
   "source": [
    "train_sentences, test_sentence, train_labels, test_label = train_test_split(df[\"Text\"].to_numpy(),\n",
    "                                                                            df[\"Category\"].to_numpy(),\n",
    "                                                                            test_size=0.2, # dedicate 10% of samples to validation set\n",
    "                                                                            random_state=42) # random state for reproducibility"
   ]
  },
  {
   "cell_type": "code",
   "execution_count": 15,
   "metadata": {},
   "outputs": [
    {
     "data": {
      "text/plain": [
       "(1987, 1987, 497, 497)"
      ]
     },
     "execution_count": 15,
     "metadata": {},
     "output_type": "execute_result"
    }
   ],
   "source": [
    "# Check the lengths\n",
    "len(train_sentences), len(train_labels), len(test_label), len(test_sentence)"
   ]
  },
  {
   "cell_type": "code",
   "execution_count": 16,
   "metadata": {},
   "outputs": [],
   "source": [
    "train_sentences, val_sentences, train_labels, val_labels = train_test_split(train_sentences,\n",
    "                                                                            train_labels,\n",
    "                                                                            test_size=0.1, # dedicate 10% of samples to validation set\n",
    "                                                                            random_state=42)"
   ]
  },
  {
   "cell_type": "code",
   "execution_count": 17,
   "metadata": {},
   "outputs": [
    {
     "data": {
      "text/plain": [
       "(1788, 1788, 199, 199, 497, 497)"
      ]
     },
     "execution_count": 17,
     "metadata": {},
     "output_type": "execute_result"
    }
   ],
   "source": [
    "len(train_sentences), len(train_labels), len(val_sentences), len(val_labels), len(test_sentence), len(test_label)"
   ]
  },
  {
   "cell_type": "code",
   "execution_count": 18,
   "metadata": {},
   "outputs": [
    {
     "data": {
      "text/plain": [
       "595"
      ]
     },
     "execution_count": 18,
     "metadata": {},
     "output_type": "execute_result"
    }
   ],
   "source": [
    "# Find average number of tokens (words) in training Tweets\n",
    "round(sum([len(i.split()) for i in train_sentences])/len(train_sentences))"
   ]
  },
  {
   "cell_type": "markdown",
   "metadata": {},
   "source": [
    "### Text-Vectorization"
   ]
  },
  {
   "cell_type": "code",
   "execution_count": 19,
   "metadata": {},
   "outputs": [],
   "source": [
    "from tensorflow.keras.layers import TextVectorization\n",
    "# Setup text vectorization with custom variables\n",
    "max_vocab_length = 10000 # max number of words to have in our vocabulary\n",
    "max_length = 595 # max length our sequences will be (e.g. how many words from a Tweet does our model see?)\n",
    "\n",
    "text_vectorizer = TextVectorization(max_tokens=max_vocab_length,\n",
    "                                    output_mode=\"int\",\n",
    "                                    output_sequence_length=max_length)"
   ]
  },
  {
   "cell_type": "code",
   "execution_count": 20,
   "metadata": {},
   "outputs": [],
   "source": [
    "text_vectorizer.adapt(train_sentences)"
   ]
  },
  {
   "cell_type": "code",
   "execution_count": 21,
   "metadata": {},
   "outputs": [
    {
     "name": "stdout",
     "output_type": "stream",
     "text": [
      "Original text:\n",
      "bartender experience bartender 05/2018 company name – city state marketing public relation year maintain proper adequate set-up bar daily basis responsible maintaining stock preparing storing garnish juice perishable ensure product quality attend stand ups prior function obtain detail order execute event flawlessly set breakdown mobile bar per hotel standard greets guest warm genuine hospitality promote up-sells product handle production consumption sheet assist cash bar set closing process perform general cleaning task adhere health department regulation bartender byron nelson golf tournament may dallas texas greet guest stock bar complete pre-opening requirement maintain clean bar area prepare serve alcoholic beverage according standard recipe comply basic safety sanitation requirement organizational product operate club 's po work large small event minimal supervision team environment complete pre-closing requirement assure state local law club policy procedure service alcoholic beverage consistently followed provide guest ordered beverage food promptly professionally check identification guest whose age appears younger abiding a.b.c liquor law responsibly make recommendation inquiring guest without delay accurately complete code liquor beer pouring wine water beverage supply requisition assure proper documentation beverage transfer department keep bar storage area beer cooler clean sanitary properly sanitize blender cup strainer knife pour spout operate po system serve cashier complete closing report per shift accounting cash receipt credit card voucher closed check cashier depositing night audit drop monitor alcohol consumption behavior guest alerting manager intoxicated questionable guest provided bar back clear instruction priority completed carry tray dirty dish dishwasher unload/rack properly ensure coverage entrance greeting arriving guest thanking leaving communicate guest cordial manner smile time expedite large quantity drink efficiently accurately club hour addition serving multiple guest time keep bar top clean ashtray emptied pick trash empty beer bottle maintain knowledge drink recipe beer item available price drink garnished prepare fresh fruit garnish juice syrup mixer scratch stock bar start shift break clean bar close verify alcohol inventory liquor cabinet accurate start shift properly request replacement alcohol bottle bar requisition sheet end shift ensure proper set-up bar top including match ashtray beverage napkin stir stick sword pick garnish tray ice garnish verify legal age guest appear age bartender american family insurance golf championship june madison wi provide friendly service guest fellow employee set assigned service bar location beverage garnish glassware supply set assigned table section making sure surface furniture clean complete transaction according department policy procedure engage guest visit complete opening closing side work maintain clean safe work area thru shift count drawer bank turn completed correct paperwork fund accounted balanced assist management keeping event area clean perfect condition maintain product supply service bartender st. jude golf tournament may memphis tn recognizes level intoxication prevent customer overly intoxicated maintains safe work environment inform customer current bar special practice suggestive selling beverage food restock bar supply dry good glassware juice soda garnish informs manager supervisor supply needed provide full bar service including beer crafted cocktail help maintain cleanliness bar lounge area equipment tv sign table chair etc clean bar table ashtray wipe clean check chair spill maintain clean alcohol soda control device record sale ringing exact amount register greet customer courteous manner review shortage overage record management 's review setup bar area seating area prior opening maintain security bar supply inventory maintain record daily operation required change tap empty keg report problem leak manager supervisor greet guest prepare signature cocktail drink restock beverage accept different type payment make change maintain specific side-work ensure total cleanliness smooth operation bar area clear reset table check identification guest ensure guest legal age consume alcoholic beverage refuse serve beverage polite manner guest legal age interact guest friendly/fast manner serve multiple table determined management bartender byron nelson golf tournament may dallas tx abide tabc/able/tips pga policy concerning alcohol consumption safety procedure prevent intoxication underage selling set breakdown margarita machine well bar equipment labeling produce batch using proper day dot interact guest maintaining professional work environment operate bar processing cash credit card transaction monitor inventory efficiently keep neat organized work space prepare serve alcoholic non-alcoholic drink wash sterilize glassware prepare garnish drink provide full service patron maintain bottle glass attractive functional manner support efficient drink preparation promotion beverage present drink food menu make specific recommendation answer question regarding menu item restock replenishment bar inventory supply thank guest visit invite return greet member name follow opening closing procedure order keep club 's bar constant state readiness accurately take relay serve guest display working knowledge wine wine etiquette prepare serf alcoholic beverage accordance pga policy state law monitor member alcohol intake report potential problem manager bill member account item purchased arrange display area project clean attractive image restocking equipment supply requisition liquor beverage supply keep assigned area equipment clean sanitized maintain overall bar readiness cleanliness sanitation total receipt end shift bartender houston open golf tournament march houston tx preparing alcoholic non-alcoholic beverage bar patron interact customer taking order serving food drink ass bar customer need preference making recommendation mix ingredient prepare cocktail check customer identification confirm meet legal drinking age restock replenish bar inventory supply check patron identification order ensure meet minimum age requirement consumption alcoholic beverage check customer ensure enjoying meal take action correct problem serve food and/or beverage patron prepare serve specialty dish table required escort customer seat inform customer daily drink menu special explain various menu item prepared describing ingredient cooking method remove dish glass table counter take kitchen cleaning stock service area supply coffee food tableware bartender st. jude golf tournament may memphis tn check patron identification order ensure meet minimum age requirement consumption alcoholic beverage check customer ensure enjoying meal take action correct problem serve food and/or beverage patron prepare serve specialty dish table required escort customer seat inform customer daily drink menu special explain various menu item prepared describing ingredient cooking method remove dish glass table counter take kitchen cleaning stock service area supply coffee food tableware bartender byron nelson golf tournament may irving tx maintain warm welcoming `` corner bar '' atmosphere id guest ordering alcoholic beverage appear year old younger properly promptly prepare garnish serve drink guest engage guest making drink front guest using working flair make appropriate beverage food recommendation upsell guest food drink item appropriate keep clean organized bar area accurately ring order po system maintaining ability socialize guest follows relevant pga standard service provide prompt courteous service bussing serving setting table accurately record pre-checks pick food beverage order serve customer food beverage order prompt courteous manner set table needed prior customer arrival contribute customer satisfaction attending restaurant customer need ensures bar area proper condition arrival customer verify workstation stocked neat orderly stock work related item process customer restaurant bill promptly accurately inquires level satisfaction experienced customer issue customer bill accordance pga policy bartender houston open golf tournament march houston tx provide exceptional customer service greet patron provide drink food secure proper i.d accurately count inventory money beginning end shift maintain inventory assigned understand market pga promotion properly payout guest keep bar area stocked clean well maintained update supervisor issue relating operation i.e equipment processing failure bartender byron nelson golf invitational may 2016. check patron identification order ensure meet minimum age requirement consumption alcoholic beverage check customer ensure enjoying meal take action correct problem serve food and/or beverage patron prepare serve specialty dish table required escort customer seat inform customer daily drink menu special explain various menu item prepared describing ingredient cooking method remove dish glass table counter take kitchen cleaning stock service area supply coffee food tableware bartender 05/2016 adhere state federal corporate liquor regulation pertaining serving alcoholic beverage ton minor intoxicated guest set assigned bar requisition stock beer wine spirit paper product straw stirrer condiment glassware ice produce maintain stock prepares cure store fresh fruit vegetable garnish juice perishable ensure product quality greet guest courteous friendly manner take and/or process order drink mix garnish present drink using standard ingredient recipe practice prudent portion control check guest bar proper identification detect act upon guest inebriation trained demonstrates knowledge liquor law receive cash guest make change verifies validity charge record charge ensures voucher properly executed lock store beverage product food equipment item deposit cash drop secures bank perform general cleaning task adhere health safety standard keep work area clean organized arrange bottle glass maintain attractive display bar area wash sterilizes stemware public relation marketing consultant 06/2006 current company name use form medium communication build maintain manage reputation organization ranging public body service business voluntary organization typical work activity include limited initiate planning pr campaign defining goal analyzing problem opportunity liaising management client internal external write editing press release in-house newsletter speech article annual report maintain updating information organization 's website use corporate advertising maintain organization 's identity name reputation prepare supervising production publicity brochure handout direct mail leaflet promotional video photograph film multimedia program answer enquiry individual journalist organization speak public presentation press conference radio tv interview meeting developed maintaining good working relation medium including local national newspaper magazine radio television organizing special event press conference exhibition open day tour competition sponsorship waitress/ cashier 05/2000 06/2002 check patron identification order ensure meet minimum age requirement consumption alcoholic beverage check customer ensure enjoying meal take action correct problem serve food and/or beverage patron prepare serve specialty dish table required escort customer table inform customer daily special explain various menu item prepared describing ingredient cooking method prepare check itemize total meal cost sale tax present menu patron answer question menu item making recommendation upon request remove dish glass table counter take kitchen cleaning stock service area supply coffee food tableware linen work history bartender 05/2018 company name – city state marketing public relation year maintain proper adequate set-up bar daily basis responsible maintaining stock preparing storing garnish juice perishable ensure product quality attend stand ups prior function obtain detail order execute event flawlessly set breakdown mobile bar per hotel standard greets guest warm genuine hospitality promote up-sells product handle production consumption sheet assist cash bar set closing process perform general cleaning task adhere health department regulation bartender byron nelson golf tournament may dallas texas greet guest stock bar complete pre-opening requirement maintain clean bar area prepare serve alcoholic beverage according standard recipe comply basic safety sanitation requirement organizational product operate club 's po work large small event minimal supervision team environment complete pre-closing requirement assure state local law club policy procedure service alcoholic beverage consistently followed provide guest ordered beverage food promptly professionally check identification guest whose age appears younger abiding a.b.c liquor law responsibly make recommendation inquiring guest without delay accurately complete code liquor beer pouring wine water beverage supply requisition assure proper documentation beverage transfer department keep bar storage area beer cooler clean sanitary properly sanitize blender cup strainer knife pour spout operate po system serve cashier complete closing report per shift accounting cash receipt credit card voucher closed check cashier depositing night audit drop monitor alcohol consumption behavior guest alerting manager intoxicated questionable guest provided bar back clear instruction priority completed carry tray dirty dish dishwasher unload/rack properly ensure coverage entrance greeting arriving guest thanking leaving communicate guest cordial manner smile time expedite large quantity drink efficiently accurately club hour addition serving multiple guest time keep bar top clean ashtray emptied pick trash empty beer bottle maintain knowledge drink recipe beer item available price drink garnished prepare fresh fruit garnish juice syrup mixer scratch stock bar start shift break clean bar close verify alcohol inventory liquor cabinet accurate start shift properly request replacement alcohol bottle bar requisition sheet end shift ensure proper set-up bar top including match ashtray beverage napkin stir stick sword pick garnish tray ice garnish verify legal age guest appear age bartender american family insurance golf championship june madison wi provide friendly service guest fellow employee set assigned service bar location beverage garnish glassware supply set assigned table section making sure surface furniture clean complete transaction according department policy procedure engage guest visit complete opening closing side work maintain clean safe work area thru shift count drawer bank turn completed correct paperwork fund accounted balanced assist management keeping event area clean perfect condition maintain product supply service bartender st. jude golf tournament may memphis tn recognizes level intoxication prevent customer overly intoxicated maintains safe work environment inform customer current bar special practice suggestive selling beverage food restock bar supply dry good glassware juice soda garnish informs manager supervisor supply needed provide full bar service including beer crafted cocktail help maintain cleanliness bar lounge area equipment tv sign table chair etc clean bar table ashtray wipe clean check chair spill maintain clean alcohol soda control device record sale ringing exact amount register greet customer courteous manner review shortage overage record management 's review setup bar area seating area prior opening maintain security bar supply inventory maintain record daily operation required change tap empty keg report problem leak manager supervisor greet guest prepare signature cocktail drink restock beverage accept different type payment make change maintain specific side-work ensure total cleanliness smooth operation bar area clear reset table check identification guest ensure guest legal age consume alcoholic beverage refuse serve beverage polite manner guest legal age interact guest friendly/fast manner serve multiple table determined management bartender byron nelson golf tournament may dallas tx abide tabc/able/tips pga policy concerning alcohol consumption safety procedure prevent intoxication underage selling set breakdown margarita machine well bar equipment labeling produce batch using proper day dot interact guest maintaining professional work environment operate bar processing cash credit card transaction monitor inventory efficiently keep neat organized work space prepare serve alcoholic non-alcoholic drink wash sterilize glassware prepare garnish drink provide full service patron maintain bottle glass attractive functional manner support efficient drink preparation promotion beverage present drink food menu make specific recommendation answer question regarding menu item restock replenishment bar inventory supply thank guest visit invite return greet member name follow opening closing procedure order keep club 's bar constant state readiness accurately take relay serve guest display working knowledge wine wine etiquette prepare serf alcoholic beverage accordance pga policy state law monitor member alcohol intake report potential problem manager bill member account item purchased arrange display area project clean attractive image restocking equipment supply requisition liquor beverage supply keep assigned area equipment clean sanitized maintain overall bar readiness cleanliness sanitation total receipt end shift bartender houston open golf tournament march houston tx preparing alcoholic non-alcoholic beverage bar patron interact customer taking order serving food drink ass bar customer need preference making recommendation mix ingredient prepare cocktail check customer identification confirm meet legal drinking age restock replenish bar inventory supply check patron identification order ensure meet minimum age requirement consumption alcoholic beverage check customer ensure enjoying meal take action correct problem serve food and/or beverage patron prepare serve specialty dish table required escort customer seat inform customer daily drink menu special explain various menu item prepared describing ingredient cooking method remove dish glass table counter take kitchen cleaning stock service area supply coffee food tableware bartender st. jude golf tournament may memphis tn check patron identification order ensure meet minimum age requirement consumption alcoholic beverage check customer ensure enjoying meal take action correct problem serve food and/or beverage patron prepare serve specialty dish table required escort customer seat inform customer daily drink menu special explain various menu item prepared describing ingredient cooking method remove dish glass table counter take kitchen cleaning stock service area supply coffee food tableware bartender byron nelson golf tournament may irving tx maintain warm welcoming `` corner bar '' atmosphere id guest ordering alcoholic beverage appear year old younger properly promptly prepare garnish serve drink guest engage guest making drink front guest using working flair make appropriate beverage food recommendation upsell guest food drink item appropriate keep clean organized bar area accurately ring order po system maintaining ability socialize guest follows relevant pga standard service provide prompt courteous service bussing serving setting table accurately record pre-checks pick food beverage order serve customer food beverage order prompt courteous manner set table needed prior customer arrival contribute customer satisfaction attending restaurant customer need ensures bar area proper condition arrival customer verify workstation stocked neat orderly stock work related item process customer restaurant bill promptly accurately inquires level satisfaction experienced customer issue customer bill accordance pga policy bartender houston open golf tournament march houston tx provide exceptional customer service greet patron provide drink food secure proper i.d accurately count inventory money beginning end shift maintain inventory assigned understand market pga promotion properly payout guest keep bar area stocked clean well maintained update supervisor issue relating operation i.e equipment processing failure bartender byron nelson golf invitational may 2016. check patron identification order ensure meet minimum age requirement consumption alcoholic beverage check customer ensure enjoying meal take action correct problem serve food and/or beverage patron prepare serve specialty dish table required escort customer seat inform customer daily drink menu special explain various menu item prepared describing ingredient cooking method remove dish glass table counter take kitchen cleaning stock service area supply coffee food tableware bartender 05/2016 adhere state federal corporate liquor regulation pertaining serving alcoholic beverage ton minor intoxicated guest set assigned bar requisition stock beer wine spirit paper product straw stirrer condiment glassware ice produce maintain stock prepares cure store fresh fruit vegetable garnish juice perishable ensure product quality greet guest courteous friendly manner take and/or process order drink mix garnish present drink using standard ingredient recipe practice prudent portion control check guest bar proper identification detect act upon guest inebriation trained demonstrates knowledge liquor law receive cash guest make change verifies validity charge record charge ensures voucher properly executed lock store beverage product food equipment item deposit cash drop secures bank perform general cleaning task adhere health safety standard keep work area clean organized arrange bottle glass maintain attractive display bar area wash sterilizes stemware public relation marketing consultant 06/2006 current company name use form medium communication build maintain manage reputation organization ranging public body service business voluntary organization typical work activity include limited initiate planning pr campaign defining goal analyzing problem opportunity liaising management client internal external write editing press release in-house newsletter speech article annual report maintain updating information organization 's website use corporate advertising maintain organization 's identity name reputation prepare supervising production publicity brochure handout direct mail leaflet promotional video photograph film multimedia program answer enquiry individual journalist organization speak public presentation press conference radio tv interview meeting developed maintaining good working relation medium including local national newspaper magazine radio television organizing special event press conference exhibition open day tour competition sponsorship waitress/ cashier 05/2000 06/2002 check patron identification order ensure meet minimum age requirement consumption alcoholic beverage check customer ensure enjoying meal take action correct problem serve food and/or beverage patron prepare serve specialty dish table required escort customer table inform customer daily special explain various menu item prepared describing ingredient cooking method prepare check itemize total meal cost sale tax present menu patron answer question menu item making recommendation upon request remove dish glass table counter take kitchen cleaning stock service area supply coffee food tableware linen summary objective seeking professional bartender position company require utilize skill ability experience contribute assist ensuring company 's success summary experienced tabc food handler certified special event bartender/cocktail server year skill knowledge knowledge principle process providing outstanding customer personal service ability multi-task knowledge food beverage preparation service standard guest relation etiquette knowledge appropriate table setting service ware ability stand extended period time shift ability work shift premise location posse strong verbal written communication skill knowledge beverage preparation service various alcoholic beverage personal characteristic professional demeanor appearance confident manner speaking willingness engage guest mental flexibility perform different role day day sense urgency complete task service guest timely manner ability work sense urgency behalf membership without disrupting atmosphere dining room effortlessly polite patient courteous time interacts well effectively communicate member guest staff maintains neat professional appearance ability follow direction supervisor ability work fast safely posse good coordination balance personable responsible willing work team environment ability properly execute po system capable bartender passionate serving warm efficient courteous manner exceeding customer expectation maintaining poise sense humor demanding environment looking bring history exceptional service growing restaurant professional bartender extensive knowledge spirit intuitive ability engage customer type friendly open committed building customer base providing positive service experience interest license tx driver food handler tabc highlight accounting organizing advertising organizational basic policy brochure po c presentation cashier press closing press release conference pr cooking process credit promotion make change public relation client publicity customer satisfaction quality customer service radio direct mail safety documentation selling editing sale special event speech exhibition supervisor fast supervising form supervision functional table fund tax health safety standard tv id television image top instruction website insurance article maintain inventory annual report inventory law legal market marketing meeting money multimedia neat newsletter newspaper preparing garnish basic math classic cocktail responsible alcohol service liquor beer wine knowledge staff management beverage preparation food running hospitality service expertise performance improvement making change aloha po fast learner creative mixology clear effective communication new hire training positive attitude food preparation safety attending multiple customer fluency english customer service reporting documentation engaging personality interpersonal skill highly reliable cash register operation able bend squat reach sale expertise handling difficult customer tabc license food handler license education high school diploma susan b. dorsey high city state cosmetology career academy inc city state skill accounting advertising basic brochure c cashier closing conference cooking credit make change client customer satisfaction customer service direct mail documentation editing special event exhibition fast form functional fund health safety standard id image instruction insurance maintain inventory inventory law legal market marketing meeting money multimedia neat newsletter newspaper organizing organizational policy po presentation press press release pr process promotion public relation publicity quality radio safety selling sale speech supervisor supervising supervision table tax tv television top website article annual report      \n",
      "\n",
      "Vectorized version:\n"
     ]
    },
    {
     "data": {
      "text/plain": [
       "<tf.Tensor: shape=(1, 595), dtype=int64, numpy=\n",
       "array([[3084,   20, 3084, 5008,    3,    6,  165,    4,    2,   29,  130,\n",
       "          98,   47,  115,  297, 1905,  879, 1159,   80,  393,   57,  266,\n",
       "         731,  525, 5387, 2974, 7203, 8151,   70,   26,   48, 1436, 2908,\n",
       "        2442, 1015,  283,  817,  328,   78, 1123,   77, 8322,  300, 3357,\n",
       "        1016, 1159,  289, 1030,  120, 6808,  367, 3158, 4803, 1597,  649,\n",
       "           1,   26,  894,  109, 3077,  572,  178,  154, 1159,  300,  457,\n",
       "          23,  436,  123, 1071,  225, 2781,  100,   53,  330, 3084, 6905,\n",
       "        6761, 2025, 2947,  177, 2290,  848, 1828,  367,  731, 1159,  369,\n",
       "           1,  136,  115,  609, 1159,  104,  240,  795, 3147,  887,  615,\n",
       "         120, 1209, 2031,  395,  110,  984,  136,  215,   26, 1302,  488,\n",
       "          22, 1021,   25,  565,  659,   77, 2765,  597,   13,  137,  369,\n",
       "           1,  136, 2267,    2,  277,  341,  488,   65,   56,    8, 3147,\n",
       "         887,  453,  908,  119,  367, 1800,  887,  102, 1691, 2307,  309,\n",
       "        1318,  367, 4218, 1153,    1, 6626,    1, 3678, 3717,  341, 6383,\n",
       "         431,  561, 9921,  367, 1537, 2707,  763,  369,  603, 3717, 4185,\n",
       "        8786, 2531,  893,  887,  208, 1416, 2267,  297,  172,  887,  822,\n",
       "          53,  712, 1159,  819,  104, 4185, 4820,  609, 3439,  896, 7066,\n",
       "           1, 4971,    1, 4520, 9676,    1, 1302, 1021,   14,  795, 1045,\n",
       "         369,  457,   37,  289,  742,   59,  154,  926,  191,  500, 1924,\n",
       "        1473,  309, 1045, 6530, 1719,  220, 4168,  432, 2749, 3077,  682,\n",
       "         367,    1,   21, 7678, 8764,  367,   73, 1159, 1038, 1027,  397,\n",
       "         948,  262, 3356, 3552, 9120, 1278, 5128,    1,  896,   70,  924,\n",
       "        3288, 1444, 5179,  367, 8020, 4273,  750,  367, 8421,  356, 3923,\n",
       "          62, 4165,  565, 1745, 1778,  803,  763,  488,  442, 1437,  923,\n",
       "         198,  367,   62,  712, 1159,  421,  609, 9272,    1, 2019, 2790,\n",
       "        4292, 4185, 4183,  115,   96, 1778, 1209, 4185,  290,  889,  883,\n",
       "        1778,    1,  240, 2611, 5675, 2974, 7203,    1, 8876, 4748,  731,\n",
       "        1159, 1411,  742, 3248,  609, 1159,  686, 1119, 2749,   81, 3717,\n",
       "        3812,  312, 1411,  742,  896,  238, 1946, 2749, 4183, 1159, 1416,\n",
       "         572,  342,  742,   70,  297,  879, 1159,  421,   36, 2157, 9272,\n",
       "         887, 7630,    1, 5388,    1, 2019, 2974, 3552, 3520, 2974, 1119,\n",
       "         447, 1153,  367,    1, 1153, 3084,  621,  422,  272, 2025, 5334,\n",
       "         353, 6780, 6047,  119,  745,    8,  367, 1805,   30,  300,  319,\n",
       "           8, 1159,  450,  887, 2974, 4802,  208,  300,  319,  708, 1449,\n",
       "         401, 1175, 1767, 1789,  609,  369,  331,  615,   53,   65,   56,\n",
       "        1821,  367, 1100,  369,  904,  457, 1732,   25,  115,  609,  628,\n",
       "          25,  104, 2831,  742, 1311, 1791,  216, 2754,  262,  726,  985,\n",
       "         510, 4571, 1781,  178,    5,  783,   77,  104,  609, 2960,  813,\n",
       "         115,   26,  208,    8, 3084, 1412, 7204, 2025, 2947,  177, 6451,\n",
       "        3431, 6710,   92, 9913, 1417,    7,    1, 7678, 1033,  628,   25,\n",
       "         137, 1932,    7,   55, 1159,  189,  241,    1,  591,  887,  102,\n",
       "        5050, 1159,  208, 3734,  490, 4802, 7203, 9515, 2974, 8273,   21,\n",
       "         242,  208,  261,  119,  627, 1159,    8,   36, 4185, 5983, 6555,\n",
       "         280,  115, 1936, 1159, 6185,  104,   69, 1458, 1448,  708, 1921,\n",
       "         327,  609, 1159,  708, 9272,    1,  609,  309, 1921, 5037,  115,\n",
       "         609, 2749, 9515,   72,  786,   83,    9, 7077, 5949, 1366,  805,\n",
       "        1828,    7, 1779,  356,  135, 4237, 7606,   83,    5,   22,  135,\n",
       "         879, 1159,  104, 3844,  104, 1015,  904,  115,  174, 1159,  208,\n",
       "          81,  115,   83,   80,   40,  276,  160, 5795, 4292,    1,   37,\n",
       "          93, 6192,   21,  242, 1828,  367,  240, 2206, 6555, 1778, 5050,\n",
       "         887, 3823,  466,  667,  230,  431,  160,  115,  584,    1,   70,\n",
       "         710, 1936, 1768,   40, 1159,  104, 1027, 4366,  708,  309, 1318,\n",
       "         367,   70,  367,  447, 1153,    1, 3147,  887, 7548,  795,  887,\n",
       "        5848,  356,  367,  447, 1153, 1594,  367,    1,  356,  795,  198,\n",
       "         708]], dtype=int64)>"
      ]
     },
     "execution_count": 21,
     "metadata": {},
     "output_type": "execute_result"
    }
   ],
   "source": [
    "import random\n",
    "random_sentence = random.choice(train_sentences)\n",
    "print(f\"Original text:\\n{random_sentence}\\\n",
    "      \\n\\nVectorized version:\")\n",
    "text_vectorizer([random_sentence])"
   ]
  },
  {
   "cell_type": "markdown",
   "metadata": {},
   "source": [
    "### Vocabulary Exploration"
   ]
  },
  {
   "cell_type": "code",
   "execution_count": 22,
   "metadata": {},
   "outputs": [
    {
     "name": "stdout",
     "output_type": "stream",
     "text": [
      "Number of words in vocab: 10000\n",
      "Top 5 most common words: ['', '[UNK]', 'state', 'company', 'city']\n",
      "Bottom 5 least common words: ['groomed', 'grir', 'greensboro', 'grandmother', 'grace']\n"
     ]
    }
   ],
   "source": [
    "# Get the unique words in the vocabulary\n",
    "words_in_vocab = text_vectorizer.get_vocabulary()\n",
    "top_5_words = words_in_vocab[:5] # most common tokens (notice the [UNK] token for \"unknown\" words)\n",
    "bottom_5_words = words_in_vocab[-5:] # least common tokens\n",
    "print(f\"Number of words in vocab: {len(words_in_vocab)}\")\n",
    "print(f\"Top 5 most common words: {top_5_words}\") \n",
    "print(f\"Bottom 5 least common words: {bottom_5_words}\")"
   ]
  },
  {
   "cell_type": "markdown",
   "metadata": {},
   "source": [
    "### Embedding"
   ]
  },
  {
   "cell_type": "code",
   "execution_count": 23,
   "metadata": {},
   "outputs": [],
   "source": [
    "from tensorflow.keras import layers"
   ]
  },
  {
   "cell_type": "code",
   "execution_count": 24,
   "metadata": {},
   "outputs": [
    {
     "data": {
      "text/plain": [
       "<keras.src.layers.core.embedding.Embedding at 0x22c27c85050>"
      ]
     },
     "execution_count": 24,
     "metadata": {},
     "output_type": "execute_result"
    }
   ],
   "source": [
    "embedding = layers.Embedding(input_dim=max_vocab_length, output_dim=128, input_length=max_length,embeddings_initializer=\"uniform\",name=\"embedding_1\")\n",
    "embedding"
   ]
  },
  {
   "cell_type": "code",
   "execution_count": 25,
   "metadata": {},
   "outputs": [
    {
     "name": "stdout",
     "output_type": "stream",
     "text": [
      "Original text:\n",
      "g healthcare recruiter skill ad autism benefit billing coach coaching client client data processing delivery driver filing financial statement hiring inventory managing meeting access office network networking payroll personal coaching presentation pricing psychology recruiting researching research sale seminar staffing phone workshop experience healthcare recruiter city state company name jul mar managed full cycle recruiting process meet staffing goal developed strong relationship partnered hiring manager maximize effectiveness recruiting process tracked reported key metric partnered hiring manager interview team ensure job requirement clearly understood presented candidate coordinated interview process built network pipeline healthcare professional matched hospital partner culture sourced screened candidate meet high volume open position professional recruiting specialist city state company name jun dec sought interviewed reference checked placed contract employee completely satisfied client requirement built contract employee workforce ad career fair social medium relationship networking took personal responsibility met individual activity goal entire division actively participated team meeting actively shared idea concept communicated client regarding specific job order candidate submission candidate matter conference call etc ... continuously explored new recruiting source job board forum assist recruiter growing candidate pool well providing sale team business lead actively participated networking group business community program increase skill knowledge ensured hiring paperwork completed thoroughly including i-9 's new hire well drugtests background check required client pricing coordinator/ phone representative city state company name jan apr processed field partner 's request pricing accuracy promptness diligence entered pricing system efficiency ensure timely delivery product served contact pricing support assigned pricing group answering specific email researching question regarding accurate pricing customer assisted team member keying pricing per deadline one four override phone team member first dedicated pricing phone team chosen assist delivery driver override code needed make delivery product customer successfully handled average 150-185 call per day efficiently researched pricing code accuracy maintained polite respectful courteous attitude displaying keen understanding demand driver 's schedule administrative assistant/billing specialist city state company name aug nov managed account loan officers- collected reviewed processed employee payroll timesheets completed monthly billing worksheet completed expense projection office completed data processing maintained inventory placed order office reordered item per need set-up customer meeting office organized conference room presentation meeting assisted coalition loan application set candidate meeting prepared agenda packet drafted typed outgoing correspondence client answered front desk call regarding loan question procedure financial statement reconciled bank account ran financial statement property delinquency posted charge late fee interest delinquent tenant mailed delinquent statement tenant provided delinquency report property manager filing maintained cohesive filing system easy access information adhered strict deadline schedule managing several project ease education training bachelor science psychology virginia state university city state psychology general psychology early education psychology adolescent psychology developmental psychology psychology learning psychological testing abnormal psychology sensation perception social psychology psychological research experimental psychology completed student work study assignment child 's house campus vsu administered standardized intelligence aptitude personality assessment test child local community referred local pediatrician provided accurate efficient result maintained composure difficult challenging patient using testing technique monitor control situation learned benefit pediatric neuropsychological test privilege working child diagnosed autism spectrum disorder adhd add completed work study program upon graduation working program four year including summer certified life coach expert rating-online program certified specialization career coaching personal coaching relationship coaching virtual face face conference call service provided workshop seminar also offered      \n",
      "\n",
      "Embedded version:\n"
     ]
    },
    {
     "data": {
      "text/plain": [
       "<tf.Tensor: shape=(1, 595, 128), dtype=float32, numpy=\n",
       "array([[[-0.04262102, -0.02050346,  0.04417828, ..., -0.01312882,\n",
       "         -0.02120622, -0.04865101],\n",
       "        [-0.02862908,  0.00402002,  0.01230298, ...,  0.04039789,\n",
       "         -0.02662076, -0.02035967],\n",
       "        [-0.04343648,  0.01945369,  0.02147225, ..., -0.01585481,\n",
       "          0.00538943,  0.0351915 ],\n",
       "        ...,\n",
       "        [ 0.04506316,  0.02121254,  0.00491712, ..., -0.00324609,\n",
       "         -0.02950019,  0.00708749],\n",
       "        [ 0.04506316,  0.02121254,  0.00491712, ..., -0.00324609,\n",
       "         -0.02950019,  0.00708749],\n",
       "        [ 0.04506316,  0.02121254,  0.00491712, ..., -0.00324609,\n",
       "         -0.02950019,  0.00708749]]], dtype=float32)>"
      ]
     },
     "execution_count": 25,
     "metadata": {},
     "output_type": "execute_result"
    }
   ],
   "source": [
    "# Get a random sentence from training set\n",
    "random_sentence = random.choice(train_sentences)\n",
    "print(f\"Original text:\\n{random_sentence}\\\n",
    "      \\n\\nEmbedded version:\")\n",
    "\n",
    "# Embed the random sentence (turn it into numerical representation)\n",
    "sample_embed = embedding(text_vectorizer([random_sentence]))\n",
    "sample_embed"
   ]
  },
  {
   "cell_type": "code",
   "execution_count": 26,
   "metadata": {},
   "outputs": [
    {
     "data": {
      "text/plain": [
       "<tf.Tensor: shape=(128,), dtype=float32, numpy=\n",
       "array([-0.04262102, -0.02050346,  0.04417828, -0.00113196, -0.02694937,\n",
       "       -0.0133898 ,  0.01660541, -0.0026873 , -0.03173751,  0.04982923,\n",
       "        0.04340024,  0.01507382,  0.04156459, -0.0231294 ,  0.0035365 ,\n",
       "       -0.02414248,  0.0224316 ,  0.02051516,  0.0175018 , -0.03597834,\n",
       "        0.03619237,  0.00591649,  0.0206244 ,  0.04674444, -0.04331241,\n",
       "        0.04669333, -0.01317254, -0.040807  , -0.0216924 ,  0.01455827,\n",
       "       -0.04554909, -0.01081259,  0.04933539,  0.03068426,  0.00581487,\n",
       "       -0.03090394,  0.03950337,  0.04312036,  0.03167242, -0.0452873 ,\n",
       "       -0.00629815, -0.04019935,  0.02979029, -0.02090092,  0.01655101,\n",
       "        0.00512508,  0.02155492,  0.04694438,  0.03098785, -0.00189707,\n",
       "        0.01805428, -0.04998851,  0.0445906 ,  0.02075892, -0.01209487,\n",
       "       -0.03162821, -0.01901965,  0.00246859, -0.0461311 , -0.00467088,\n",
       "       -0.03375901, -0.04902704, -0.00069468,  0.02606202,  0.02133126,\n",
       "       -0.03002954, -0.0332899 , -0.02140379,  0.0040352 ,  0.04176053,\n",
       "        0.02516533,  0.04820212, -0.00320471, -0.01732747,  0.0312696 ,\n",
       "        0.01464093,  0.00818009, -0.00498796,  0.04146114,  0.01935435,\n",
       "        0.02221692, -0.02508483, -0.02059874, -0.01197131, -0.04428699,\n",
       "        0.01118301, -0.0363484 , -0.02754207,  0.01879225,  0.04957876,\n",
       "       -0.02520003,  0.02449563,  0.02170396,  0.01138798, -0.04912485,\n",
       "        0.02322595, -0.04968014, -0.01323394,  0.03522008,  0.02259148,\n",
       "        0.0263001 , -0.01702704, -0.04816282,  0.00548377,  0.0188895 ,\n",
       "       -0.04893764, -0.00112126,  0.02643952, -0.03080845, -0.01890096,\n",
       "        0.02545981, -0.00359886,  0.04897047,  0.02561858,  0.03840197,\n",
       "        0.04246325,  0.03370495,  0.04625635, -0.04129601, -0.0065033 ,\n",
       "       -0.03406703, -0.04169775, -0.00509952, -0.03394862, -0.03385943,\n",
       "       -0.01312882, -0.02120622, -0.04865101], dtype=float32)>"
      ]
     },
     "execution_count": 26,
     "metadata": {},
     "output_type": "execute_result"
    }
   ],
   "source": [
    "sample_embed[0][0]"
   ]
  },
  {
   "cell_type": "markdown",
   "metadata": {},
   "source": [
    "### Model Building"
   ]
  },
  {
   "cell_type": "code",
   "execution_count": 27,
   "metadata": {},
   "outputs": [
    {
     "data": {
      "text/html": [
       "<style>#sk-container-id-1 {color: black;}#sk-container-id-1 pre{padding: 0;}#sk-container-id-1 div.sk-toggleable {background-color: white;}#sk-container-id-1 label.sk-toggleable__label {cursor: pointer;display: block;width: 100%;margin-bottom: 0;padding: 0.3em;box-sizing: border-box;text-align: center;}#sk-container-id-1 label.sk-toggleable__label-arrow:before {content: \"▸\";float: left;margin-right: 0.25em;color: #696969;}#sk-container-id-1 label.sk-toggleable__label-arrow:hover:before {color: black;}#sk-container-id-1 div.sk-estimator:hover label.sk-toggleable__label-arrow:before {color: black;}#sk-container-id-1 div.sk-toggleable__content {max-height: 0;max-width: 0;overflow: hidden;text-align: left;background-color: #f0f8ff;}#sk-container-id-1 div.sk-toggleable__content pre {margin: 0.2em;color: black;border-radius: 0.25em;background-color: #f0f8ff;}#sk-container-id-1 input.sk-toggleable__control:checked~div.sk-toggleable__content {max-height: 200px;max-width: 100%;overflow: auto;}#sk-container-id-1 input.sk-toggleable__control:checked~label.sk-toggleable__label-arrow:before {content: \"▾\";}#sk-container-id-1 div.sk-estimator input.sk-toggleable__control:checked~label.sk-toggleable__label {background-color: #d4ebff;}#sk-container-id-1 div.sk-label input.sk-toggleable__control:checked~label.sk-toggleable__label {background-color: #d4ebff;}#sk-container-id-1 input.sk-hidden--visually {border: 0;clip: rect(1px 1px 1px 1px);clip: rect(1px, 1px, 1px, 1px);height: 1px;margin: -1px;overflow: hidden;padding: 0;position: absolute;width: 1px;}#sk-container-id-1 div.sk-estimator {font-family: monospace;background-color: #f0f8ff;border: 1px dotted black;border-radius: 0.25em;box-sizing: border-box;margin-bottom: 0.5em;}#sk-container-id-1 div.sk-estimator:hover {background-color: #d4ebff;}#sk-container-id-1 div.sk-parallel-item::after {content: \"\";width: 100%;border-bottom: 1px solid gray;flex-grow: 1;}#sk-container-id-1 div.sk-label:hover label.sk-toggleable__label {background-color: #d4ebff;}#sk-container-id-1 div.sk-serial::before {content: \"\";position: absolute;border-left: 1px solid gray;box-sizing: border-box;top: 0;bottom: 0;left: 50%;z-index: 0;}#sk-container-id-1 div.sk-serial {display: flex;flex-direction: column;align-items: center;background-color: white;padding-right: 0.2em;padding-left: 0.2em;position: relative;}#sk-container-id-1 div.sk-item {position: relative;z-index: 1;}#sk-container-id-1 div.sk-parallel {display: flex;align-items: stretch;justify-content: center;background-color: white;position: relative;}#sk-container-id-1 div.sk-item::before, #sk-container-id-1 div.sk-parallel-item::before {content: \"\";position: absolute;border-left: 1px solid gray;box-sizing: border-box;top: 0;bottom: 0;left: 50%;z-index: -1;}#sk-container-id-1 div.sk-parallel-item {display: flex;flex-direction: column;z-index: 1;position: relative;background-color: white;}#sk-container-id-1 div.sk-parallel-item:first-child::after {align-self: flex-end;width: 50%;}#sk-container-id-1 div.sk-parallel-item:last-child::after {align-self: flex-start;width: 50%;}#sk-container-id-1 div.sk-parallel-item:only-child::after {width: 0;}#sk-container-id-1 div.sk-dashed-wrapped {border: 1px dashed gray;margin: 0 0.4em 0.5em 0.4em;box-sizing: border-box;padding-bottom: 0.4em;background-color: white;}#sk-container-id-1 div.sk-label label {font-family: monospace;font-weight: bold;display: inline-block;line-height: 1.2em;}#sk-container-id-1 div.sk-label-container {text-align: center;}#sk-container-id-1 div.sk-container {/* jupyter's `normalize.less` sets `[hidden] { display: none; }` but bootstrap.min.css set `[hidden] { display: none !important; }` so we also need the `!important` here to be able to override the default hidden behavior on the sphinx rendered scikit-learn.org. See: https://github.com/scikit-learn/scikit-learn/issues/21755 */display: inline-block !important;position: relative;}#sk-container-id-1 div.sk-text-repr-fallback {display: none;}</style><div id=\"sk-container-id-1\" class=\"sk-top-container\"><div class=\"sk-text-repr-fallback\"><pre>Pipeline(steps=[(&#x27;tfidf&#x27;, TfidfVectorizer()), (&#x27;clf&#x27;, MultinomialNB())])</pre><b>In a Jupyter environment, please rerun this cell to show the HTML representation or trust the notebook. <br />On GitHub, the HTML representation is unable to render, please try loading this page with nbviewer.org.</b></div><div class=\"sk-container\" hidden><div class=\"sk-item sk-dashed-wrapped\"><div class=\"sk-label-container\"><div class=\"sk-label sk-toggleable\"><input class=\"sk-toggleable__control sk-hidden--visually\" id=\"sk-estimator-id-1\" type=\"checkbox\" ><label for=\"sk-estimator-id-1\" class=\"sk-toggleable__label sk-toggleable__label-arrow\">Pipeline</label><div class=\"sk-toggleable__content\"><pre>Pipeline(steps=[(&#x27;tfidf&#x27;, TfidfVectorizer()), (&#x27;clf&#x27;, MultinomialNB())])</pre></div></div></div><div class=\"sk-serial\"><div class=\"sk-item\"><div class=\"sk-estimator sk-toggleable\"><input class=\"sk-toggleable__control sk-hidden--visually\" id=\"sk-estimator-id-2\" type=\"checkbox\" ><label for=\"sk-estimator-id-2\" class=\"sk-toggleable__label sk-toggleable__label-arrow\">TfidfVectorizer</label><div class=\"sk-toggleable__content\"><pre>TfidfVectorizer()</pre></div></div></div><div class=\"sk-item\"><div class=\"sk-estimator sk-toggleable\"><input class=\"sk-toggleable__control sk-hidden--visually\" id=\"sk-estimator-id-3\" type=\"checkbox\" ><label for=\"sk-estimator-id-3\" class=\"sk-toggleable__label sk-toggleable__label-arrow\">MultinomialNB</label><div class=\"sk-toggleable__content\"><pre>MultinomialNB()</pre></div></div></div></div></div></div></div>"
      ],
      "text/plain": [
       "Pipeline(steps=[('tfidf', TfidfVectorizer()), ('clf', MultinomialNB())])"
      ]
     },
     "execution_count": 27,
     "metadata": {},
     "output_type": "execute_result"
    }
   ],
   "source": [
    "from sklearn.feature_extraction.text import TfidfVectorizer\n",
    "from sklearn.naive_bayes import MultinomialNB\n",
    "from sklearn.pipeline import Pipeline\n",
    "\n",
    "# Create tokenization and modelling pipeline\n",
    "model_0 = Pipeline([\n",
    "                    (\"tfidf\", TfidfVectorizer()), # convert words to numbers using tfidf\n",
    "                    (\"clf\", MultinomialNB()) # model the text\n",
    "                    ])\n",
    "\n",
    "# Fit the pipeline to the training data\n",
    "model_0.fit(train_sentences, train_labels)"
   ]
  },
  {
   "cell_type": "code",
   "execution_count": 28,
   "metadata": {},
   "outputs": [
    {
     "name": "stdout",
     "output_type": "stream",
     "text": [
      "Our baseline model achieves an accuracy of: 56.78%\n"
     ]
    }
   ],
   "source": [
    "baseline_score = model_0.score(val_sentences, val_labels)\n",
    "print(f\"Our baseline model achieves an accuracy of: {baseline_score*100:.2f}%\")"
   ]
  },
  {
   "cell_type": "code",
   "execution_count": 29,
   "metadata": {},
   "outputs": [
    {
     "name": "stdout",
     "output_type": "stream",
     "text": [
      "['SALES' 'AVIATION' 'INFORMATION-TECHNOLOGY' 'FITNESS' 'PUBLIC-RELATIONS'\n",
      " 'PUBLIC-RELATIONS' 'PUBLIC-RELATIONS' 'PUBLIC-RELATIONS'\n",
      " 'PUBLIC-RELATIONS' 'BANKING' 'FINANCE' 'BUSINESS-DEVELOPMENT' 'CHEF'\n",
      " 'BANKING' 'FINANCE' 'BUSINESS-DEVELOPMENT' 'FINANCE' 'TEACHER'\n",
      " 'ENGINEERING' 'FINANCE']\n",
      "['AUTOMOBILE' 'CONSULTANT' 'INFORMATION-TECHNOLOGY' 'FITNESS'\n",
      " 'PUBLIC-RELATIONS' 'DIGITAL-MEDIA' 'DIGITAL-MEDIA' 'PUBLIC-RELATIONS'\n",
      " 'ARTS' 'BANKING' 'FINANCE' 'BUSINESS-DEVELOPMENT' 'CHEF' 'APPAREL'\n",
      " 'BANKING' 'PUBLIC-RELATIONS' 'AVIATION' 'TEACHER' 'AGRICULTURE' 'TEACHER']\n"
     ]
    }
   ],
   "source": [
    "# Make predictions\n",
    "baseline_preds = model_0.predict(val_sentences)\n",
    "print(baseline_preds[:20])\n",
    "print(val_labels[:20])"
   ]
  },
  {
   "cell_type": "code",
   "execution_count": 30,
   "metadata": {},
   "outputs": [],
   "source": [
    "# Function to evaluate: accuracy, precision, recall, f1-score\n",
    "from sklearn.metrics import accuracy_score, precision_recall_fscore_support\n",
    "\n",
    "def calculate_results(y_true, y_pred):\n",
    "  \"\"\"\n",
    "  Calculates model accuracy, precision, recall and f1 score of a binary classification model.\n",
    "\n",
    "  Args:\n",
    "  -----\n",
    "  y_true = true labels in the form of a 1D array\n",
    "  y_pred = predicted labels in the form of a 1D array\n",
    "\n",
    "  Returns a dictionary of accuracy, precision, recall, f1-score.\n",
    "  \"\"\"\n",
    "  # Calculate model accuracy\n",
    "  model_accuracy = accuracy_score(y_true, y_pred) * 100\n",
    "  # Calculate model precision, recall and f1 score using \"weighted\" average\n",
    "  model_precision, model_recall, model_f1, _ = precision_recall_fscore_support(y_true, y_pred, average=\"weighted\")\n",
    "  model_results = {\"accuracy\": model_accuracy,\n",
    "                  \"precision\": model_precision,\n",
    "                  \"recall\": model_recall,\n",
    "                  \"f1\": model_f1}\n",
    "  return model_results"
   ]
  },
  {
   "cell_type": "code",
   "execution_count": 31,
   "metadata": {},
   "outputs": [
    {
     "data": {
      "text/plain": [
       "{'accuracy': 56.78391959798995,\n",
       " 'precision': 0.5880908623833776,\n",
       " 'recall': 0.5678391959798995,\n",
       " 'f1': 0.5215564615323471}"
      ]
     },
     "execution_count": 31,
     "metadata": {},
     "output_type": "execute_result"
    }
   ],
   "source": [
    "# Get baseline results\n",
    "baseline_results = calculate_results(y_true=val_labels,\n",
    "                                     y_pred=baseline_preds)\n",
    "baseline_results"
   ]
  },
  {
   "cell_type": "markdown",
   "metadata": {},
   "source": [
    "Further library importing"
   ]
  },
  {
   "cell_type": "code",
   "execution_count": 32,
   "metadata": {},
   "outputs": [],
   "source": [
    "from sklearn.model_selection import train_test_split\n",
    "from tensorflow.keras.preprocessing.text import Tokenizer\n",
    "from tensorflow.keras.preprocessing.sequence import pad_sequences\n",
    "from tensorflow.keras.layers import Embedding, LSTM, Dense\n",
    "from tensorflow.keras.models import Sequential\n",
    "from sklearn.utils.class_weight import compute_class_weight\n",
    "from tensorflow.keras.callbacks import EarlyStopping, ModelCheckpoint\n",
    "from sklearn.preprocessing import LabelEncoder\n",
    "from tensorflow.keras.utils import to_categorical"
   ]
  },
  {
   "cell_type": "code",
   "execution_count": 33,
   "metadata": {},
   "outputs": [],
   "source": [
    "X = df['Text'].values\n",
    "y = df['Category'].astype('object').values"
   ]
  },
  {
   "cell_type": "markdown",
   "metadata": {},
   "source": [
    "### Encoding"
   ]
  },
  {
   "cell_type": "code",
   "execution_count": 34,
   "metadata": {},
   "outputs": [],
   "source": [
    "# Encode labels\n",
    "label_encoder = LabelEncoder()\n",
    "y_encoded = label_encoder.fit_transform(y)\n",
    "\n",
    "# Convert numerical labels to one-hot encoded vectors\n",
    "y_one_hot = to_categorical(y_encoded)\n",
    "\n",
    "# Split into train and test sets\n",
    "X_train, X_test, y_train, y_test = train_test_split(X, y_one_hot, test_size=0.2, random_state=42)\n",
    "\n",
    "# Create a TextVectorization layer\n",
    "max_features = 5000\n",
    "sequence_length = 100\n",
    "vectorizer = TextVectorization(max_tokens=max_features, output_mode='int', output_sequence_length=sequence_length)\n",
    "vectorizer.adapt(X_train)\n",
    "\n",
    "# Build the LSTM model\n",
    "num_classes = len(label_encoder.classes_)"
   ]
  },
  {
   "cell_type": "markdown",
   "metadata": {},
   "source": [
    "### Compute class weights based on class distribution"
   ]
  },
  {
   "cell_type": "markdown",
   "metadata": {},
   "source": [
    "Because the dataset is highly imbalanced, we need highier weight for low sample data."
   ]
  },
  {
   "cell_type": "code",
   "execution_count": 35,
   "metadata": {},
   "outputs": [],
   "source": [
    "class_weights = compute_class_weight('balanced', classes=np.unique(y_train.argmax(axis=1)), y=y_train.argmax(axis=1))\n",
    "class_weights_dict = dict(enumerate(class_weights))"
   ]
  },
  {
   "cell_type": "code",
   "execution_count": 36,
   "metadata": {},
   "outputs": [
    {
     "data": {
      "text/plain": [
       "{0: 0.9302434456928839,\n",
       " 1: 0.9408143939393939,\n",
       " 2: 1.5053030303030304,\n",
       " 3: 1.0752164502164503,\n",
       " 4: 0.9740196078431372,\n",
       " 5: 2.7597222222222224,\n",
       " 6: 0.8624131944444444,\n",
       " 7: 0.8999094202898551,\n",
       " 8: 4.139583333333333,\n",
       " 9: 0.8902329749103942,\n",
       " 10: 0.8807624113475178,\n",
       " 11: 1.061431623931624,\n",
       " 12: 0.8714912280701754,\n",
       " 13: 0.9408143939393939,\n",
       " 14: 1.1660798122065728,\n",
       " 15: 0.8535223367697594,\n",
       " 16: 0.8362794612794613,\n",
       " 17: 0.844812925170068,\n",
       " 18: 0.8714912280701754,\n",
       " 19: 0.8999094202898551,\n",
       " 20: 0.8807624113475178,\n",
       " 21: 0.8807624113475178,\n",
       " 22: 0.9516283524904214,\n",
       " 23: 1.0348958333333333}"
      ]
     },
     "execution_count": 36,
     "metadata": {},
     "output_type": "execute_result"
    }
   ],
   "source": [
    "class_weights_dict"
   ]
  },
  {
   "cell_type": "markdown",
   "metadata": {},
   "source": [
    "### LSTM Model Building"
   ]
  },
  {
   "cell_type": "code",
   "execution_count": 37,
   "metadata": {},
   "outputs": [],
   "source": [
    "model = Sequential([\n",
    "    vectorizer,\n",
    "    Embedding(input_dim=len(vectorizer.get_vocabulary()) + 1, output_dim=32, input_length=sequence_length),\n",
    "    LSTM(64),\n",
    "    Dense(128, activation='relu'),\n",
    "    Dense(num_classes, activation='softmax')  # Output categories based on number of classes\n",
    "])\n",
    "\n",
    "# Compile the model\n",
    "model.compile(loss='categorical_crossentropy', optimizer='adam', metrics=['accuracy'])"
   ]
  },
  {
   "cell_type": "code",
   "execution_count": 38,
   "metadata": {},
   "outputs": [
    {
     "name": "stdout",
     "output_type": "stream",
     "text": [
      "Epoch 1/10\n",
      "28/28 [==============================] - 5s 93ms/step - loss: 3.1887 - accuracy: 0.0436 - val_loss: 3.1788 - val_accuracy: 0.0854\n",
      "Epoch 2/10\n",
      "28/28 [==============================] - 2s 80ms/step - loss: 3.1643 - accuracy: 0.0895 - val_loss: 2.9769 - val_accuracy: 0.0955\n",
      "Epoch 3/10\n",
      "28/28 [==============================] - 2s 77ms/step - loss: 2.9404 - accuracy: 0.0872 - val_loss: 2.8183 - val_accuracy: 0.0603\n",
      "Epoch 4/10\n",
      "28/28 [==============================] - 2s 75ms/step - loss: 2.7481 - accuracy: 0.1242 - val_loss: 2.8123 - val_accuracy: 0.1307\n",
      "Epoch 5/10\n",
      "28/28 [==============================] - 2s 73ms/step - loss: 2.6117 - accuracy: 0.1365 - val_loss: 2.7123 - val_accuracy: 0.1106\n",
      "Epoch 6/10\n",
      "28/28 [==============================] - 2s 73ms/step - loss: 2.5149 - accuracy: 0.1521 - val_loss: 2.5871 - val_accuracy: 0.1759\n",
      "Epoch 7/10\n",
      "28/28 [==============================] - 2s 79ms/step - loss: 2.3399 - accuracy: 0.1840 - val_loss: 2.4825 - val_accuracy: 0.1558\n",
      "Epoch 8/10\n",
      "28/28 [==============================] - 2s 88ms/step - loss: 2.1820 - accuracy: 0.2086 - val_loss: 2.5468 - val_accuracy: 0.1457\n",
      "Epoch 9/10\n",
      "28/28 [==============================] - 2s 89ms/step - loss: 1.9577 - accuracy: 0.2718 - val_loss: 2.6141 - val_accuracy: 0.1859\n",
      "Epoch 10/10\n",
      "28/28 [==============================] - 3s 91ms/step - loss: 1.8238 - accuracy: 0.3020 - val_loss: 2.6916 - val_accuracy: 0.1206\n"
     ]
    },
    {
     "data": {
      "text/plain": [
       "<keras.src.callbacks.History at 0x22c27c93f50>"
      ]
     },
     "execution_count": 38,
     "metadata": {},
     "output_type": "execute_result"
    }
   ],
   "source": [
    "model.fit(X_train, y_train, epochs=10, batch_size=64, validation_split=0.1, class_weight=class_weights_dict)"
   ]
  },
  {
   "cell_type": "code",
   "execution_count": 39,
   "metadata": {},
   "outputs": [
    {
     "name": "stdout",
     "output_type": "stream",
     "text": [
      "16/16 [==============================] - 0s 23ms/step - loss: 2.6588 - accuracy: 0.2052\n",
      "Test Loss: 2.6588, Test Accuracy: 0.2052\n"
     ]
    }
   ],
   "source": [
    "test_loss, test_accuracy = model.evaluate(X_test, y_test)\n",
    "print(f\"Test Loss: {test_loss:.4f}, Test Accuracy: {test_accuracy:.4f}\")"
   ]
  },
  {
   "cell_type": "markdown",
   "metadata": {},
   "source": [
    "Thank you"
   ]
  }
 ],
 "metadata": {
  "kernelspec": {
   "display_name": "Python 3 (ipykernel)",
   "language": "python",
   "name": "python3"
  },
  "language_info": {
   "codemirror_mode": {
    "name": "ipython",
    "version": 3
   },
   "file_extension": ".py",
   "mimetype": "text/x-python",
   "name": "python",
   "nbconvert_exporter": "python",
   "pygments_lexer": "ipython3",
   "version": "3.11.4"
  }
 },
 "nbformat": 4,
 "nbformat_minor": 2
}
