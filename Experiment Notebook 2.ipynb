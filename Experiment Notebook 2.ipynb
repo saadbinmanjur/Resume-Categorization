{
 "cells": [
  {
   "cell_type": "markdown",
   "metadata": {},
   "source": [
    "# Experiment using 7 ML Algorithms"
   ]
  },
  {
   "cell_type": "markdown",
   "metadata": {},
   "source": [
    "## Data Exploration"
   ]
  },
  {
   "cell_type": "markdown",
   "metadata": {},
   "source": [
    "Loading data and importing necessary libararies"
   ]
  },
  {
   "cell_type": "code",
   "execution_count": 1,
   "metadata": {},
   "outputs": [],
   "source": [
    "import pandas as pd\n",
    "import numpy as np\n",
    "import nltk\n",
    "from nltk.corpus import stopwords\n",
    "from nltk.stem import WordNetLemmatizer\n",
    "from nltk.tokenize import word_tokenize\n",
    "from sklearn.model_selection import train_test_split\n",
    "import matplotlib.pyplot as plt\n",
    "import tensorflow as tf\n",
    "\n",
    "import warnings\n",
    "warnings.filterwarnings(\"ignore\")"
   ]
  },
  {
   "cell_type": "code",
   "execution_count": 2,
   "metadata": {},
   "outputs": [
    {
     "name": "stdout",
     "output_type": "stream",
     "text": [
      "<class 'pandas.core.frame.DataFrame'>\n",
      "RangeIndex: 2484 entries, 0 to 2483\n",
      "Data columns (total 2 columns):\n",
      " #   Column      Non-Null Count  Dtype   \n",
      "---  ------      --------------  -----   \n",
      " 0   Category    2484 non-null   category\n",
      " 1   Resume_str  2484 non-null   object  \n",
      "dtypes: category(1), object(1)\n",
      "memory usage: 22.7+ KB\n"
     ]
    }
   ],
   "source": [
    "df = pd.read_csv('Resume.csv')\n",
    "df = df[['Category','Resume_str']]\n",
    "df['Category'] = df['Category'].astype('category')\n",
    "df.info()"
   ]
  },
  {
   "cell_type": "markdown",
   "metadata": {},
   "source": [
    "## Preprocessing"
   ]
  },
  {
   "cell_type": "code",
   "execution_count": 3,
   "metadata": {},
   "outputs": [],
   "source": [
    "import string\n",
    "def clean_text(series):\n",
    "    stop_words = set(stopwords.words('english'))\n",
    "    lemmatizer = WordNetLemmatizer()\n",
    "\n",
    "    cleaned_texts = []\n",
    "\n",
    "    for text in series:\n",
    "        # Tokenization\n",
    "        tokens = word_tokenize(text.lower())\n",
    "\n",
    "        # Removing punctuation and numeric values\n",
    "        no_punct_tokens = [token for token in tokens if token not in string.punctuation and not token.isnumeric()]\n",
    "\n",
    "        # Removing stop words\n",
    "        no_stopwords_tokens = [token for token in no_punct_tokens if token not in stop_words]\n",
    "\n",
    "        # Lemmatization\n",
    "        lemmatized_tokens = [lemmatizer.lemmatize(token) for token in no_stopwords_tokens]\n",
    "\n",
    "        # Join tokens back into a string\n",
    "        cleaned_text = ' '.join(lemmatized_tokens)\n",
    "        cleaned_texts.append(cleaned_text)\n",
    "\n",
    "    return cleaned_texts"
   ]
  },
  {
   "cell_type": "code",
   "execution_count": 4,
   "metadata": {},
   "outputs": [],
   "source": [
    "df['Text'] = clean_text(df['Resume_str'])"
   ]
  },
  {
   "cell_type": "markdown",
   "metadata": {},
   "source": [
    "### Dataset splitting"
   ]
  },
  {
   "cell_type": "code",
   "execution_count": 5,
   "metadata": {},
   "outputs": [],
   "source": [
    "from sklearn.model_selection import train_test_split\n",
    "\n",
    "train_sentences, test_sentences, train_labels, test_labels = train_test_split(df['Resume_str'].values,\n",
    "                                                                            df['Category'].values,\n",
    "                                                                            test_size=0.1, # dedicate 10% of samples to validation set\n",
    "                                                                            random_state=42)"
   ]
  },
  {
   "cell_type": "markdown",
   "metadata": {},
   "source": [
    "### Making functions for model building, getting result and evaluate matrics"
   ]
  },
  {
   "cell_type": "markdown",
   "metadata": {},
   "source": [
    "### MultinomialNB"
   ]
  },
  {
   "cell_type": "markdown",
   "metadata": {},
   "source": [
    "(This section also include the building of MultinomialNB)"
   ]
  },
  {
   "cell_type": "code",
   "execution_count": 6,
   "metadata": {},
   "outputs": [
    {
     "data": {
      "text/html": [
       "<style>#sk-container-id-1 {color: black;}#sk-container-id-1 pre{padding: 0;}#sk-container-id-1 div.sk-toggleable {background-color: white;}#sk-container-id-1 label.sk-toggleable__label {cursor: pointer;display: block;width: 100%;margin-bottom: 0;padding: 0.3em;box-sizing: border-box;text-align: center;}#sk-container-id-1 label.sk-toggleable__label-arrow:before {content: \"▸\";float: left;margin-right: 0.25em;color: #696969;}#sk-container-id-1 label.sk-toggleable__label-arrow:hover:before {color: black;}#sk-container-id-1 div.sk-estimator:hover label.sk-toggleable__label-arrow:before {color: black;}#sk-container-id-1 div.sk-toggleable__content {max-height: 0;max-width: 0;overflow: hidden;text-align: left;background-color: #f0f8ff;}#sk-container-id-1 div.sk-toggleable__content pre {margin: 0.2em;color: black;border-radius: 0.25em;background-color: #f0f8ff;}#sk-container-id-1 input.sk-toggleable__control:checked~div.sk-toggleable__content {max-height: 200px;max-width: 100%;overflow: auto;}#sk-container-id-1 input.sk-toggleable__control:checked~label.sk-toggleable__label-arrow:before {content: \"▾\";}#sk-container-id-1 div.sk-estimator input.sk-toggleable__control:checked~label.sk-toggleable__label {background-color: #d4ebff;}#sk-container-id-1 div.sk-label input.sk-toggleable__control:checked~label.sk-toggleable__label {background-color: #d4ebff;}#sk-container-id-1 input.sk-hidden--visually {border: 0;clip: rect(1px 1px 1px 1px);clip: rect(1px, 1px, 1px, 1px);height: 1px;margin: -1px;overflow: hidden;padding: 0;position: absolute;width: 1px;}#sk-container-id-1 div.sk-estimator {font-family: monospace;background-color: #f0f8ff;border: 1px dotted black;border-radius: 0.25em;box-sizing: border-box;margin-bottom: 0.5em;}#sk-container-id-1 div.sk-estimator:hover {background-color: #d4ebff;}#sk-container-id-1 div.sk-parallel-item::after {content: \"\";width: 100%;border-bottom: 1px solid gray;flex-grow: 1;}#sk-container-id-1 div.sk-label:hover label.sk-toggleable__label {background-color: #d4ebff;}#sk-container-id-1 div.sk-serial::before {content: \"\";position: absolute;border-left: 1px solid gray;box-sizing: border-box;top: 0;bottom: 0;left: 50%;z-index: 0;}#sk-container-id-1 div.sk-serial {display: flex;flex-direction: column;align-items: center;background-color: white;padding-right: 0.2em;padding-left: 0.2em;position: relative;}#sk-container-id-1 div.sk-item {position: relative;z-index: 1;}#sk-container-id-1 div.sk-parallel {display: flex;align-items: stretch;justify-content: center;background-color: white;position: relative;}#sk-container-id-1 div.sk-item::before, #sk-container-id-1 div.sk-parallel-item::before {content: \"\";position: absolute;border-left: 1px solid gray;box-sizing: border-box;top: 0;bottom: 0;left: 50%;z-index: -1;}#sk-container-id-1 div.sk-parallel-item {display: flex;flex-direction: column;z-index: 1;position: relative;background-color: white;}#sk-container-id-1 div.sk-parallel-item:first-child::after {align-self: flex-end;width: 50%;}#sk-container-id-1 div.sk-parallel-item:last-child::after {align-self: flex-start;width: 50%;}#sk-container-id-1 div.sk-parallel-item:only-child::after {width: 0;}#sk-container-id-1 div.sk-dashed-wrapped {border: 1px dashed gray;margin: 0 0.4em 0.5em 0.4em;box-sizing: border-box;padding-bottom: 0.4em;background-color: white;}#sk-container-id-1 div.sk-label label {font-family: monospace;font-weight: bold;display: inline-block;line-height: 1.2em;}#sk-container-id-1 div.sk-label-container {text-align: center;}#sk-container-id-1 div.sk-container {/* jupyter's `normalize.less` sets `[hidden] { display: none; }` but bootstrap.min.css set `[hidden] { display: none !important; }` so we also need the `!important` here to be able to override the default hidden behavior on the sphinx rendered scikit-learn.org. See: https://github.com/scikit-learn/scikit-learn/issues/21755 */display: inline-block !important;position: relative;}#sk-container-id-1 div.sk-text-repr-fallback {display: none;}</style><div id=\"sk-container-id-1\" class=\"sk-top-container\"><div class=\"sk-text-repr-fallback\"><pre>Pipeline(steps=[(&#x27;tfidf&#x27;, TfidfVectorizer()), (&#x27;clf&#x27;, MultinomialNB())])</pre><b>In a Jupyter environment, please rerun this cell to show the HTML representation or trust the notebook. <br />On GitHub, the HTML representation is unable to render, please try loading this page with nbviewer.org.</b></div><div class=\"sk-container\" hidden><div class=\"sk-item sk-dashed-wrapped\"><div class=\"sk-label-container\"><div class=\"sk-label sk-toggleable\"><input class=\"sk-toggleable__control sk-hidden--visually\" id=\"sk-estimator-id-1\" type=\"checkbox\" ><label for=\"sk-estimator-id-1\" class=\"sk-toggleable__label sk-toggleable__label-arrow\">Pipeline</label><div class=\"sk-toggleable__content\"><pre>Pipeline(steps=[(&#x27;tfidf&#x27;, TfidfVectorizer()), (&#x27;clf&#x27;, MultinomialNB())])</pre></div></div></div><div class=\"sk-serial\"><div class=\"sk-item\"><div class=\"sk-estimator sk-toggleable\"><input class=\"sk-toggleable__control sk-hidden--visually\" id=\"sk-estimator-id-2\" type=\"checkbox\" ><label for=\"sk-estimator-id-2\" class=\"sk-toggleable__label sk-toggleable__label-arrow\">TfidfVectorizer</label><div class=\"sk-toggleable__content\"><pre>TfidfVectorizer()</pre></div></div></div><div class=\"sk-item\"><div class=\"sk-estimator sk-toggleable\"><input class=\"sk-toggleable__control sk-hidden--visually\" id=\"sk-estimator-id-3\" type=\"checkbox\" ><label for=\"sk-estimator-id-3\" class=\"sk-toggleable__label sk-toggleable__label-arrow\">MultinomialNB</label><div class=\"sk-toggleable__content\"><pre>MultinomialNB()</pre></div></div></div></div></div></div></div>"
      ],
      "text/plain": [
       "Pipeline(steps=[('tfidf', TfidfVectorizer()), ('clf', MultinomialNB())])"
      ]
     },
     "execution_count": 6,
     "metadata": {},
     "output_type": "execute_result"
    }
   ],
   "source": [
    "from sklearn.feature_extraction.text import TfidfVectorizer\n",
    "from sklearn.naive_bayes import MultinomialNB\n",
    "from sklearn.pipeline import Pipeline\n",
    "\n",
    "# Create tokenization and modelling pipeline\n",
    "model_0 = Pipeline([\n",
    "                    (\"tfidf\", TfidfVectorizer()), # convert words to numbers using tfidf\n",
    "                    (\"clf\", MultinomialNB()) # model the text\n",
    "])\n",
    "\n",
    "# Fit the pipeline to the training data\n",
    "model_0.fit(train_sentences, train_labels)"
   ]
  },
  {
   "cell_type": "code",
   "execution_count": 7,
   "metadata": {},
   "outputs": [
    {
     "name": "stdout",
     "output_type": "stream",
     "text": [
      "Our baseline model achieves an accuracy of: 51.81%\n"
     ]
    }
   ],
   "source": [
    "multinomia_nb_score = model_0.score(test_sentences, test_labels)\n",
    "print(f\"Our baseline model achieves an accuracy of: {multinomia_nb_score*100:.2f}%\")"
   ]
  },
  {
   "cell_type": "code",
   "execution_count": 8,
   "metadata": {},
   "outputs": [],
   "source": [
    "def make_model(model):\n",
    "    model_0 = Pipeline([\n",
    "                    (\"tfidf\", TfidfVectorizer()), # convert words to numbers using tfidf\n",
    "                    (\"choose_model\",model ) # model the text\n",
    "                ])\n",
    "    model_0.fit(train_sentences, train_labels)\n",
    "    return model_0"
   ]
  },
  {
   "cell_type": "code",
   "execution_count": 9,
   "metadata": {},
   "outputs": [],
   "source": [
    "# Function to evaluate: accuracy, precision, recall, f1-score\n",
    "from sklearn.metrics import accuracy_score, precision_recall_fscore_support\n",
    "\n",
    "def calculate_results(y_true, y_pred):\n",
    "  \"\"\"\n",
    "  Calculates model accuracy, precision, recall and f1 score of a binary classification model.\n",
    "\n",
    "  Args:\n",
    "  -----\n",
    "  y_true = true labels in the form of a 1D array\n",
    "  y_pred = predicted labels in the form of a 1D array\n",
    "\n",
    "  Returns a dictionary of accuracy, precision, recall, f1-score.\n",
    "  \"\"\"\n",
    "  # Calculate model accuracy\n",
    "  model_accuracy = accuracy_score(y_true, y_pred) * 100\n",
    "  # Calculate model precision, recall and f1 score using \"weighted\" average\n",
    "  model_precision, model_recall, model_f1, _ = precision_recall_fscore_support(y_true, y_pred, average=\"weighted\")\n",
    "  model_results = {\"accuracy\": model_accuracy,\n",
    "                  \"precision\": model_precision,\n",
    "                  \"recall\": model_recall,\n",
    "                  \"f1\": model_f1}\n",
    "  return model_results"
   ]
  },
  {
   "cell_type": "code",
   "execution_count": 10,
   "metadata": {},
   "outputs": [
    {
     "data": {
      "text/plain": [
       "{'accuracy': 51.80722891566265,\n",
       " 'precision': 0.5393666574389466,\n",
       " 'recall': 0.5180722891566265,\n",
       " 'f1': 0.48272941812768694}"
      ]
     },
     "execution_count": 10,
     "metadata": {},
     "output_type": "execute_result"
    }
   ],
   "source": [
    "nb_preds = model_0.predict(test_sentences)\n",
    "\n",
    "multinomia_nb__results = calculate_results(y_true=test_labels, y_pred=nb_preds)\n",
    "multinomia_nb__results"
   ]
  },
  {
   "cell_type": "code",
   "execution_count": 11,
   "metadata": {},
   "outputs": [],
   "source": [
    "def make_result(model):\n",
    "    predicts = model.predict(test_sentences)\n",
    "    result = calculate_results(y_true=test_labels,y_pred=predicts)\n",
    "    print(result)\n",
    "    return result"
   ]
  },
  {
   "cell_type": "code",
   "execution_count": 12,
   "metadata": {},
   "outputs": [
    {
     "name": "stdout",
     "output_type": "stream",
     "text": [
      "{'accuracy': 51.80722891566265, 'precision': 0.5393666574389466, 'recall': 0.5180722891566265, 'f1': 0.48272941812768694}\n"
     ]
    },
    {
     "data": {
      "text/plain": [
       "{'accuracy': 51.80722891566265,\n",
       " 'precision': 0.5393666574389466,\n",
       " 'recall': 0.5180722891566265,\n",
       " 'f1': 0.48272941812768694}"
      ]
     },
     "execution_count": 12,
     "metadata": {},
     "output_type": "execute_result"
    }
   ],
   "source": [
    "make_result(make_model(MultinomialNB()))"
   ]
  },
  {
   "cell_type": "markdown",
   "metadata": {},
   "source": [
    "### Logistic Regression"
   ]
  },
  {
   "cell_type": "code",
   "execution_count": 13,
   "metadata": {},
   "outputs": [
    {
     "name": "stdout",
     "output_type": "stream",
     "text": [
      "{'accuracy': 65.06024096385542, 'precision': 0.6549401736148724, 'recall': 0.6506024096385542, 'f1': 0.6371566964386319}\n"
     ]
    },
    {
     "data": {
      "text/plain": [
       "{'accuracy': 65.06024096385542,\n",
       " 'precision': 0.6549401736148724,\n",
       " 'recall': 0.6506024096385542,\n",
       " 'f1': 0.6371566964386319}"
      ]
     },
     "execution_count": 13,
     "metadata": {},
     "output_type": "execute_result"
    }
   ],
   "source": [
    "from sklearn.linear_model import LogisticRegression\n",
    "\n",
    "make_result(make_model(LogisticRegression()))"
   ]
  },
  {
   "cell_type": "markdown",
   "metadata": {},
   "source": [
    "### Random Forest"
   ]
  },
  {
   "cell_type": "code",
   "execution_count": 14,
   "metadata": {},
   "outputs": [
    {
     "name": "stdout",
     "output_type": "stream",
     "text": [
      "{'accuracy': 69.47791164658635, 'precision': 0.7120860574971135, 'recall': 0.6947791164658634, 'f1': 0.6782839481557515}\n"
     ]
    },
    {
     "data": {
      "text/plain": [
       "{'accuracy': 69.47791164658635,\n",
       " 'precision': 0.7120860574971135,\n",
       " 'recall': 0.6947791164658634,\n",
       " 'f1': 0.6782839481557515}"
      ]
     },
     "execution_count": 14,
     "metadata": {},
     "output_type": "execute_result"
    }
   ],
   "source": [
    "from sklearn.ensemble import RandomForestClassifier\n",
    "\n",
    "make_result(make_model(RandomForestClassifier()))"
   ]
  },
  {
   "cell_type": "markdown",
   "metadata": {},
   "source": [
    "### AdaBoost"
   ]
  },
  {
   "cell_type": "code",
   "execution_count": 15,
   "metadata": {},
   "outputs": [],
   "source": [
    "#!pip freeze > requirements.txt"
   ]
  },
  {
   "cell_type": "code",
   "execution_count": 16,
   "metadata": {},
   "outputs": [
    {
     "name": "stdout",
     "output_type": "stream",
     "text": [
      "{'accuracy': 19.67871485943775, 'precision': 0.16689525194796279, 'recall': 0.19678714859437751, 'f1': 0.16439785285544636}\n"
     ]
    },
    {
     "data": {
      "text/plain": [
       "{'accuracy': 19.67871485943775,\n",
       " 'precision': 0.16689525194796279,\n",
       " 'recall': 0.19678714859437751,\n",
       " 'f1': 0.16439785285544636}"
      ]
     },
     "execution_count": 16,
     "metadata": {},
     "output_type": "execute_result"
    }
   ],
   "source": [
    "from sklearn.ensemble import AdaBoostClassifier\n",
    "\n",
    "make_result(make_model(AdaBoostClassifier()))"
   ]
  },
  {
   "cell_type": "markdown",
   "metadata": {},
   "source": [
    "### Extra Trees "
   ]
  },
  {
   "cell_type": "code",
   "execution_count": 17,
   "metadata": {},
   "outputs": [
    {
     "name": "stdout",
     "output_type": "stream",
     "text": [
      "{'accuracy': 59.43775100401606, 'precision': 0.5812470479214535, 'recall': 0.5943775100401606, 'f1': 0.5686895726941013}\n"
     ]
    },
    {
     "data": {
      "text/plain": [
       "{'accuracy': 59.43775100401606,\n",
       " 'precision': 0.5812470479214535,\n",
       " 'recall': 0.5943775100401606,\n",
       " 'f1': 0.5686895726941013}"
      ]
     },
     "execution_count": 17,
     "metadata": {},
     "output_type": "execute_result"
    }
   ],
   "source": [
    "from sklearn.ensemble import ExtraTreesClassifier\n",
    "\n",
    "make_result(make_model(ExtraTreesClassifier()))"
   ]
  },
  {
   "cell_type": "markdown",
   "metadata": {},
   "source": [
    "### KNeighbors"
   ]
  },
  {
   "cell_type": "code",
   "execution_count": 18,
   "metadata": {},
   "outputs": [
    {
     "name": "stdout",
     "output_type": "stream",
     "text": [
      "{'accuracy': 57.42971887550201, 'precision': 0.6182341677103332, 'recall': 0.5742971887550201, 'f1': 0.5580096193024687}\n"
     ]
    },
    {
     "data": {
      "text/plain": [
       "{'accuracy': 57.42971887550201,\n",
       " 'precision': 0.6182341677103332,\n",
       " 'recall': 0.5742971887550201,\n",
       " 'f1': 0.5580096193024687}"
      ]
     },
     "execution_count": 18,
     "metadata": {},
     "output_type": "execute_result"
    }
   ],
   "source": [
    "from sklearn.neighbors import KNeighborsClassifier\n",
    "\n",
    "make_result(make_model(KNeighborsClassifier(n_neighbors=24)))"
   ]
  },
  {
   "cell_type": "markdown",
   "metadata": {},
   "source": [
    "### Bagging (best model)"
   ]
  },
  {
   "cell_type": "code",
   "execution_count": 19,
   "metadata": {},
   "outputs": [
    {
     "name": "stdout",
     "output_type": "stream",
     "text": [
      "{'accuracy': 70.68273092369478, 'precision': 0.7018700732556153, 'recall': 0.7068273092369478, 'f1': 0.6927787327294306}\n"
     ]
    },
    {
     "data": {
      "text/plain": [
       "{'accuracy': 70.68273092369478,\n",
       " 'precision': 0.7018700732556153,\n",
       " 'recall': 0.7068273092369478,\n",
       " 'f1': 0.6927787327294306}"
      ]
     },
     "execution_count": 19,
     "metadata": {},
     "output_type": "execute_result"
    }
   ],
   "source": [
    "from sklearn.ensemble import BaggingClassifier\n",
    "\n",
    "bagging_model = make_model(BaggingClassifier())\n",
    "make_result(bagging_model)"
   ]
  },
  {
   "cell_type": "markdown",
   "metadata": {},
   "source": [
    "### Random Sampling"
   ]
  },
  {
   "cell_type": "markdown",
   "metadata": {},
   "source": [
    "Model loading for random sampling"
   ]
  },
  {
   "cell_type": "code",
   "execution_count": 21,
   "metadata": {},
   "outputs": [],
   "source": [
    "import pickle\n",
    "with open('model/bagging_model.pkl', 'rb') as file:\n",
    "    loaded_model = pickle.load(file)"
   ]
  },
  {
   "cell_type": "code",
   "execution_count": 22,
   "metadata": {},
   "outputs": [
    {
     "data": {
      "text/plain": [
       "\"rn asst head nurse practice leader skill care planning case management home health hospice infection control injection nurse manager oncology scheduling staff development trauma triage tutoring urology experience 09/2010 12/2011 company name hired adon assistant director nursing bed long term care mentally physically disabled child year upper 's older individual job included staffing nurse monthly setting transportation outside md office visit resident monitoring nursing unit day day care documentation resident taking call needed twice month mod entire building conducted in-services nursing staff answered page day question oversee critical change resident helped decision transfer hospital speaking md.helped staff nursing needed secured home health position rescare located oak park illinois 2015. made home visit overseeing client overall health basic assessment listened new complaint change status would call client doctor needed inform change status gave injections/ infusion needed participated one clinical trial aspect visit timed documented per protocal still registered agency client need rn visit client need part time visit secured rn position july best home health home visit part time job available part time minimal took roster fall worked maxim home health asking part time infusion case promised infusion case available one mile away n't cover milage still roster rarely called currently looking part time rn line going facility minute drive tutoring online triage willing learn case management pt oncology/hospice additional professional activity ocn certified past med surg certified past plan recertify future team nurse north shore youth baseball league year reference dr. emil totonchi md advocate illinois masonic med center dr. michael friedman md advocate illinois masonic med center beverly bohus rn nurse manager advocate illinois masonic med center lorel hedge nurse practioner advocate illinois masonic med center work tennessee uma kelkar director rehab manor care northbrook jean gavina director md manor care northbrook elma ramos rn evening nursing supervisor manor care northbrook contact information available upon request 06/2009 07/2010 company name started supervisor promoted dcd director care delivery managing bed locked dementia unit later bed long term care unit recently back dementia unit along long term care unit duty included leading nursing unit setting priority staff development upholding corporate standard communicating existing information system material management clinical management infection control qa understanding professional issue valuing every employee supporting leading company policy attending interdisciplinary meeting twice daily weekly monthly meeting medicare meeting investigation fall skin injury new admission care planning monthly staff meeting assist hiring disciplinary action resigned july want take vacation time find long term care management position somewhat closer home 01/1977 01/2009 rn asst head nurse practice leader company name － city state responsible management unit hr basis including staffing scheduling payroll monitor staff rn 's nct 's unit clerk daily assignment going learning need occasionally fill staff rn void reported nurse manager daily basis additional task keep current unit activity problem helped nurse manager interview process disciplinary activity employee termination .sought scheduled in-services staff made sure staff attended required hospital mandatory yearly required 01/1977 01/2009 company name － city state started nursing career rn general med surg unit year recruited md chairman oncology part staff open 1st oncology inpatient unit promoted also assistant head nurse worked next year earned ocn certificate helped instruct rn unit become certified mix chemo drug via laminar flow hood administer drug safely monitor side effect manage symptom beside management duty also responsible taking patient load many day week changed surgical 23hr observation unit illinois masonic med center staff rn approximately year promoted practice leader equal asst head rn duty expanded computer installed unit responsible computer profiency scheduling staff computer class monitoring progress daily charting patient attended workshop learn computer scheduling payroll duty attended day seminar picc line insertion management one point headed picc line program picc rn kept record piccs placed patient complication later problem became nationally certified med surg nursing taking exam passing type surgical patient seen thisunit include gyne urology general surgical trauma post sicu head neck general ent patient fetal demise le week due number private room unit also would take type isolation including r/o tb negative air flow room many patient short stay anywhere overnight 2-3 day patient overflow medical isolation extensive head neck surgical patient would stay 4-5 day result unit fast paced many day half unit would discharged within 1-2 shift bed would filled new patient main job daily basis manage placing patient correctly oversee assignment competent staff type patient coming made frequent round assure pt satisfaction quickly aid preventing problem escalating monitor staff learning need try set needed review unit based in-service also try send staff outside learning seminar budget allowed daily basis responsible checking '' state unit `` printed daily included area staff charting missing incorrect would make sure shift staff aware missing documentation correct help correction needed attended staffing daily make sure last minute change done next two shift adequate staffing education training rn diploma illinois masonic school nursing － city state northeastern illinois university － city state western illinois university － city state additional information award received dorothy rome nominee highest yearly award experienced rn awarded many `` applause awards´ '' year masonic nominated award excellence asked head picc line program turned interventional radiology advocate illinois masonic medical center\""
      ]
     },
     "execution_count": 22,
     "metadata": {},
     "output_type": "execute_result"
    }
   ],
   "source": [
    "import random\n",
    "choices_sample= random.choices(df.values.tolist(), k=10)\n",
    "choices_sample[0][2]"
   ]
  },
  {
   "cell_type": "code",
   "execution_count": 23,
   "metadata": {},
   "outputs": [
    {
     "name": "stdout",
     "output_type": "stream",
     "text": [
      "prediction: ADVOCATE and original: ADVOCATE \n",
      "prediction: ARTS and original: ARTS \n",
      "prediction: INFORMATION-TECHNOLOGY and original: INFORMATION-TECHNOLOGY \n",
      "prediction: ACCOUNTANT and original: ACCOUNTANT \n",
      "prediction: AGRICULTURE and original: PUBLIC-RELATIONS \n",
      "prediction: AVIATION and original: AVIATION \n",
      "prediction: INFORMATION-TECHNOLOGY and original: ARTS \n",
      "prediction: ADVOCATE and original: ADVOCATE \n",
      "prediction: BANKING and original: FITNESS \n",
      "prediction: ARTS and original: ARTS \n"
     ]
    }
   ],
   "source": [
    "for sample in choices_sample:\n",
    "    text = sample[2]\n",
    "    prediction = loaded_model.predict([text])\n",
    "    print(f\"prediction: {prediction[0]} and original: {sample[0]} \")"
   ]
  },
  {
   "cell_type": "markdown",
   "metadata": {},
   "source": [
    "Thank you"
   ]
  }
 ],
 "metadata": {
  "kernelspec": {
   "display_name": "Python 3 (ipykernel)",
   "language": "python",
   "name": "python3"
  },
  "language_info": {
   "codemirror_mode": {
    "name": "ipython",
    "version": 3
   },
   "file_extension": ".py",
   "mimetype": "text/x-python",
   "name": "python",
   "nbconvert_exporter": "python",
   "pygments_lexer": "ipython3",
   "version": "3.11.4"
  }
 },
 "nbformat": 4,
 "nbformat_minor": 2
}
